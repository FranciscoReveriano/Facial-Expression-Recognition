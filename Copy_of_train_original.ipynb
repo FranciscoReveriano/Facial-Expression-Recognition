{
  "nbformat": 4,
  "nbformat_minor": 0,
  "metadata": {
    "colab": {
      "name": "Copy of train_original.ipynb",
      "version": "0.3.2",
      "provenance": [],
      "collapsed_sections": [],
      "toc_visible": true,
      "include_colab_link": true
    },
    "kernelspec": {
      "name": "python3",
      "display_name": "Python 3"
    },
    "accelerator": "GPU"
  },
  "cells": [
    {
      "cell_type": "markdown",
      "metadata": {
        "id": "view-in-github",
        "colab_type": "text"
      },
      "source": [
        "<a href=\"https://colab.research.google.com/github/FranciscoReveriano/Facial-Expression-Recognition/blob/Version-1-(50-Epochs)/Copy_of_train_original.ipynb\" target=\"_parent\"><img src=\"https://colab.research.google.com/assets/colab-badge.svg\" alt=\"Open In Colab\"/></a>"
      ]
    },
    {
      "metadata": {
        "id": "K3dpKNWbTejk",
        "colab_type": "text"
      },
      "cell_type": "markdown",
      "source": [
        "# Original Model"
      ]
    },
    {
      "metadata": {
        "id": "RaUenXFMUAPB",
        "colab_type": "text"
      },
      "cell_type": "markdown",
      "source": [
        "##Train The Dataset"
      ]
    },
    {
      "metadata": {
        "id": "1U1nFtUcTluL",
        "colab_type": "text"
      },
      "cell_type": "markdown",
      "source": [
        "### Import Necessary Libaries"
      ]
    },
    {
      "metadata": {
        "id": "SOUiEvwPT07C",
        "colab_type": "code",
        "outputId": "005567a3-0e58-419a-833b-42e8966c8dd7",
        "colab": {
          "base_uri": "https://localhost:8080/",
          "height": 34
        }
      },
      "cell_type": "code",
      "source": [
        "import tensorflow as tf\n",
        "import numpy as np\n",
        "import keras\n",
        "import time\n",
        "from keras.models import Sequential\n",
        "from keras.layers import Conv2D, MaxPooling2D, AveragePooling2D\n",
        "from keras.layers import Dense, Dropout, Flatten\n",
        "from keras.preprocessing.image import ImageDataGenerator"
      ],
      "execution_count": 1,
      "outputs": [
        {
          "output_type": "stream",
          "text": [
            "Using TensorFlow backend.\n"
          ],
          "name": "stderr"
        }
      ]
    },
    {
      "metadata": {
        "id": "dBEOBGT6Ttvk",
        "colab_type": "text"
      },
      "cell_type": "markdown",
      "source": [
        "###Check for GPU"
      ]
    },
    {
      "metadata": {
        "id": "c4YAJd50UEvv",
        "colab_type": "code",
        "outputId": "38be0d53-1a82-4070-9693-38f8fae3e2e3",
        "colab": {
          "base_uri": "https://localhost:8080/",
          "height": 34
        }
      },
      "cell_type": "code",
      "source": [
        "device_name = tf.test.gpu_device_name()\n",
        "if device_name != '/device:GPU:0':\n",
        "  raise SystemError('GPU device not found')\n",
        "print('Found GPU at: {}'.format(device_name))\n",
        "\n",
        "config = tf.ConfigProto()\n",
        "sess = tf.Session(config=config)\n",
        "keras.backend.set_session(sess)"
      ],
      "execution_count": 2,
      "outputs": [
        {
          "output_type": "stream",
          "text": [
            "Found GPU at: /device:GPU:0\n"
          ],
          "name": "stdout"
        }
      ]
    },
    {
      "metadata": {
        "id": "80EtH_BmU4_N",
        "colab_type": "text"
      },
      "cell_type": "markdown",
      "source": [
        "### Select Settings"
      ]
    },
    {
      "metadata": {
        "id": "VNuX3XDlVBSz",
        "colab_type": "code",
        "colab": {}
      },
      "cell_type": "code",
      "source": [
        "num_classes = 7\n",
        "batch_size = 256\n",
        "epochs = 50"
      ],
      "execution_count": 0,
      "outputs": []
    },
    {
      "metadata": {
        "id": "kQL_8KQKVEiz",
        "colab_type": "text"
      },
      "cell_type": "markdown",
      "source": [
        "### Process Images"
      ]
    },
    {
      "metadata": {
        "id": "J0GrNNwZVNjW",
        "colab_type": "code",
        "outputId": "76649afe-9a00-49c5-de8c-4f8cf2b29ea4",
        "colab": {
          "base_uri": "https://localhost:8080/",
          "height": 67
        }
      },
      "cell_type": "code",
      "source": [
        "start = time.time() \n",
        "with tf.device('/GPU:0'):\n",
        "  with open(\"fer2013.csv\") as f:\n",
        "      content = f.readlines()\n",
        "  lines = np.array(content)\n",
        "  num_of_instances = lines.size\n",
        "end = time.time()\n",
        "print(\"Number of Images: \", num_of_instances)\n",
        "print(\"Pixel number of each image: \", len(lines[1].split(\",\")[1].split(\" \")))\n",
        "print(\"Time to prepare images = \", end-start)"
      ],
      "execution_count": 4,
      "outputs": [
        {
          "output_type": "stream",
          "text": [
            "Number of Images:  35888\n",
            "Pixel number of each image:  2304\n",
            "Time to prepare images =  2.2839956283569336\n"
          ],
          "name": "stdout"
        }
      ]
    },
    {
      "metadata": {
        "id": "vMFyGiH0WkNG",
        "colab_type": "text"
      },
      "cell_type": "markdown",
      "source": [
        "### Train the Model"
      ]
    },
    {
      "metadata": {
        "id": "7MAVCsHQHmx4",
        "colab_type": "code",
        "outputId": "da65d5bc-eedc-4bc5-9cc6-4bbad6514ef4",
        "colab": {
          "base_uri": "https://localhost:8080/",
          "height": 1918
        }
      },
      "cell_type": "code",
      "source": [
        "start = time.time()\n",
        "x_train, y_train = [], []\n",
        "with tf.device('/GPU:0'):\n",
        "  for i in range(1, num_of_instances):\n",
        "      emotion, img, usage = lines[i].split(\",\")\n",
        "      val = img.split(\" \")\n",
        "      pixels = np.array(val, 'float32')\n",
        "      emotion = keras.utils.to_categorical(emotion, num_classes)\n",
        "      if 'Training' in usage:\n",
        "          y_train.append(emotion)\n",
        "          x_train.append(pixels)\n",
        "\n",
        "  x_train = np.array(x_train, 'float32')\n",
        "  y_train = np.array(y_train, 'float32')\n",
        "  x_train /= 255\n",
        "  x_train = x_train.reshape(x_train.shape[0], 48, 48, 1)\n",
        "  x_train = x_train.astype('float32')\n",
        "  print(x_train.shape[0], 'train samples')\n",
        "\n",
        "  model = Sequential()\n",
        "\n",
        "  model.add(Conv2D(64, (5, 5), activation='relu', input_shape=(48, 48, 1)))\n",
        "  model.add(MaxPooling2D(pool_size=(5, 5), strides=(2, 2)))\n",
        "\n",
        "  model.add(Conv2D(64, (3, 3), activation='relu'))\n",
        "  model.add(Conv2D(64, (3, 3), activation='relu'))\n",
        "  model.add(AveragePooling2D(pool_size=(3, 3), strides=(2, 2)))\n",
        "\n",
        "  model.add(Conv2D(128, (3, 3), activation='relu'))\n",
        "  model.add(Conv2D(128, (3, 3), activation='relu'))\n",
        "  model.add(AveragePooling2D(pool_size=(3, 3), strides=(2, 2)))\n",
        "\n",
        "  model.add(Flatten())\n",
        "\n",
        "  model.add(Dense(1024, activation='relu'))\n",
        "  model.add(Dropout(0.2))\n",
        "  model.add(Dense(1024, activation='relu'))\n",
        "  model.add(Dropout(0.2))\n",
        "\n",
        "  model.add(Dense(num_classes, activation='softmax'))\n",
        "\n",
        "  gen = ImageDataGenerator()\n",
        "  train_generator = gen.flow(x_train, y_train, batch_size=batch_size)\n",
        "  model.compile(loss='categorical_crossentropy', optimizer=keras.optimizers.Adam(), metrics=['accuracy'])\n",
        "  model.fit_generator(train_generator, steps_per_epoch=batch_size, epochs=epochs)\n",
        "\n",
        "model_json = model.to_json()\n",
        "with open(\"model.json\", \"w\") as json_file:\n",
        "    json_file.write(model_json)\n",
        "model.save_weights(\"model.h5\")\n",
        "end = time.time()\n",
        "print(\"Saved model to disk\")\n",
        "print(\"Total Runtime To Train Model = \", end-start)"
      ],
      "execution_count": 5,
      "outputs": [
        {
          "output_type": "stream",
          "text": [
            "28709 train samples\n",
            "WARNING:tensorflow:From /usr/local/lib/python3.6/dist-packages/tensorflow/python/framework/op_def_library.py:263: colocate_with (from tensorflow.python.framework.ops) is deprecated and will be removed in a future version.\n",
            "Instructions for updating:\n",
            "Colocations handled automatically by placer.\n",
            "WARNING:tensorflow:From /usr/local/lib/python3.6/dist-packages/keras/backend/tensorflow_backend.py:3445: calling dropout (from tensorflow.python.ops.nn_ops) with keep_prob is deprecated and will be removed in a future version.\n",
            "Instructions for updating:\n",
            "Please use `rate` instead of `keep_prob`. Rate should be set to `rate = 1 - keep_prob`.\n",
            "WARNING:tensorflow:From /usr/local/lib/python3.6/dist-packages/tensorflow/python/ops/math_ops.py:3066: to_int32 (from tensorflow.python.ops.math_ops) is deprecated and will be removed in a future version.\n",
            "Instructions for updating:\n",
            "Use tf.cast instead.\n",
            "Epoch 1/50\n",
            "256/256 [==============================] - 11s 44ms/step - loss: 1.7950 - acc: 0.2561\n",
            "Epoch 2/50\n",
            "256/256 [==============================] - 7s 27ms/step - loss: 1.5608 - acc: 0.3813\n",
            "Epoch 3/50\n",
            "256/256 [==============================] - 7s 27ms/step - loss: 1.3964 - acc: 0.4626\n",
            "Epoch 4/50\n",
            "256/256 [==============================] - 7s 27ms/step - loss: 1.2960 - acc: 0.5037\n",
            "Epoch 5/50\n",
            "256/256 [==============================] - 7s 27ms/step - loss: 1.1998 - acc: 0.5438\n",
            "Epoch 6/50\n",
            "256/256 [==============================] - 7s 28ms/step - loss: 1.1331 - acc: 0.5680\n",
            "Epoch 7/50\n",
            "256/256 [==============================] - 7s 28ms/step - loss: 1.0604 - acc: 0.5980\n",
            "Epoch 8/50\n",
            "256/256 [==============================] - 7s 28ms/step - loss: 1.0073 - acc: 0.6207\n",
            "Epoch 9/50\n",
            "256/256 [==============================] - 7s 28ms/step - loss: 0.9380 - acc: 0.6482\n",
            "Epoch 10/50\n",
            "256/256 [==============================] - 7s 28ms/step - loss: 0.8693 - acc: 0.6745\n",
            "Epoch 11/50\n",
            "256/256 [==============================] - 7s 28ms/step - loss: 0.7981 - acc: 0.7024\n",
            "Epoch 12/50\n",
            "256/256 [==============================] - 7s 28ms/step - loss: 0.7240 - acc: 0.7316\n",
            "Epoch 13/50\n",
            "256/256 [==============================] - 7s 28ms/step - loss: 0.6575 - acc: 0.7544\n",
            "Epoch 14/50\n",
            "256/256 [==============================] - 7s 28ms/step - loss: 0.5989 - acc: 0.7774\n",
            "Epoch 15/50\n",
            "256/256 [==============================] - 7s 28ms/step - loss: 0.5221 - acc: 0.8054\n",
            "Epoch 16/50\n",
            "256/256 [==============================] - 7s 28ms/step - loss: 0.4575 - acc: 0.8297\n",
            "Epoch 17/50\n",
            "256/256 [==============================] - 7s 28ms/step - loss: 0.4096 - acc: 0.8497\n",
            "Epoch 18/50\n",
            "256/256 [==============================] - 7s 28ms/step - loss: 0.3619 - acc: 0.8665\n",
            "Epoch 19/50\n",
            "256/256 [==============================] - 7s 28ms/step - loss: 0.3220 - acc: 0.8819\n",
            "Epoch 20/50\n",
            "256/256 [==============================] - 7s 28ms/step - loss: 0.2770 - acc: 0.8992\n",
            "Epoch 21/50\n",
            "256/256 [==============================] - 7s 28ms/step - loss: 0.2559 - acc: 0.9082\n",
            "Epoch 22/50\n",
            "256/256 [==============================] - 7s 28ms/step - loss: 0.2230 - acc: 0.9186\n",
            "Epoch 23/50\n",
            "256/256 [==============================] - 7s 28ms/step - loss: 0.2117 - acc: 0.9231\n",
            "Epoch 24/50\n",
            "256/256 [==============================] - 7s 28ms/step - loss: 0.1855 - acc: 0.9341\n",
            "Epoch 25/50\n",
            "256/256 [==============================] - 7s 28ms/step - loss: 0.1684 - acc: 0.9390\n",
            "Epoch 26/50\n",
            "256/256 [==============================] - 7s 28ms/step - loss: 0.1620 - acc: 0.9428\n",
            "Epoch 27/50\n",
            "256/256 [==============================] - 7s 28ms/step - loss: 0.1615 - acc: 0.9430\n",
            "Epoch 28/50\n",
            "256/256 [==============================] - 7s 28ms/step - loss: 0.1346 - acc: 0.9532\n",
            "Epoch 29/50\n",
            "256/256 [==============================] - 7s 28ms/step - loss: 0.1384 - acc: 0.9507\n",
            "Epoch 30/50\n",
            "256/256 [==============================] - 7s 28ms/step - loss: 0.1021 - acc: 0.9637\n",
            "Epoch 31/50\n",
            "256/256 [==============================] - 7s 28ms/step - loss: 0.1174 - acc: 0.9587\n",
            "Epoch 32/50\n",
            "256/256 [==============================] - 7s 28ms/step - loss: 0.1102 - acc: 0.9613\n",
            "Epoch 33/50\n",
            "256/256 [==============================] - 7s 28ms/step - loss: 0.1040 - acc: 0.9638\n",
            "Epoch 34/50\n",
            "256/256 [==============================] - 7s 29ms/step - loss: 0.0930 - acc: 0.9675\n",
            "Epoch 35/50\n",
            "256/256 [==============================] - 7s 28ms/step - loss: 0.1077 - acc: 0.9621\n",
            "Epoch 36/50\n",
            "256/256 [==============================] - 7s 28ms/step - loss: 0.0839 - acc: 0.9708\n",
            "Epoch 37/50\n",
            "256/256 [==============================] - 7s 28ms/step - loss: 0.0776 - acc: 0.9728\n",
            "Epoch 38/50\n",
            "256/256 [==============================] - 7s 28ms/step - loss: 0.1025 - acc: 0.9648\n",
            "Epoch 39/50\n",
            "256/256 [==============================] - 7s 28ms/step - loss: 0.0923 - acc: 0.9696\n",
            "Epoch 40/50\n",
            "256/256 [==============================] - 7s 28ms/step - loss: 0.0762 - acc: 0.9740\n",
            "Epoch 41/50\n",
            "256/256 [==============================] - 7s 28ms/step - loss: 0.0915 - acc: 0.9684\n",
            "Epoch 42/50\n",
            "256/256 [==============================] - 7s 29ms/step - loss: 0.0581 - acc: 0.9803\n",
            "Epoch 43/50\n",
            "256/256 [==============================] - 7s 28ms/step - loss: 0.0818 - acc: 0.9714\n",
            "Epoch 44/50\n",
            "256/256 [==============================] - 7s 28ms/step - loss: 0.0658 - acc: 0.9773\n",
            "Epoch 45/50\n",
            "256/256 [==============================] - 7s 29ms/step - loss: 0.0770 - acc: 0.9726\n",
            "Epoch 46/50\n",
            "256/256 [==============================] - 7s 28ms/step - loss: 0.0692 - acc: 0.9753\n",
            "Epoch 47/50\n",
            "256/256 [==============================] - 7s 28ms/step - loss: 0.0701 - acc: 0.9762\n",
            "Epoch 48/50\n",
            "256/256 [==============================] - 7s 28ms/step - loss: 0.0898 - acc: 0.9692\n",
            "Epoch 49/50\n",
            "256/256 [==============================] - 7s 28ms/step - loss: 0.0584 - acc: 0.9800\n",
            "Epoch 50/50\n",
            "256/256 [==============================] - 7s 28ms/step - loss: 0.0749 - acc: 0.9744\n",
            "Saved model to disk\n",
            "Total Runtime To Train Model =  380.1585485935211\n"
          ],
          "name": "stdout"
        }
      ]
    },
    {
      "metadata": {
        "id": "5SIzv0mWYQnf",
        "colab_type": "text"
      },
      "cell_type": "markdown",
      "source": [
        "##Test the Dataset"
      ]
    },
    {
      "metadata": {
        "id": "E0OhxbLwYdCj",
        "colab_type": "text"
      },
      "cell_type": "markdown",
      "source": [
        "###Import Necessary Libraries"
      ]
    },
    {
      "metadata": {
        "id": "HXUYU_9SYhma",
        "colab_type": "code",
        "colab": {}
      },
      "cell_type": "code",
      "source": [
        "import numpy as np\n",
        "import matplotlib.pyplot as plt\n",
        "import keras\n",
        "import time\n",
        "from keras.models import model_from_json"
      ],
      "execution_count": 0,
      "outputs": []
    },
    {
      "metadata": {
        "id": "o7KOQV0JQ_3_",
        "colab_type": "code",
        "outputId": "c799ab23-1d04-4222-e286-d2536d25df85",
        "colab": {
          "base_uri": "https://localhost:8080/",
          "height": 101
        }
      },
      "cell_type": "code",
      "source": [
        "start = time.time()\n",
        "num_classes = 7\n",
        "with tf.device('/GPU:0'):\n",
        "  with open(\"fer2013.csv\") as f:\n",
        "      content = f.readlines()\n",
        "  lines = np.array(content)\n",
        "  num_of_instances = lines.size\n",
        "\n",
        "  x_test, y_test = [], []\n",
        "\n",
        "  for i in range(1, num_of_instances):\n",
        "      emotion, img, usage = lines[i].split(\",\")\n",
        "      val = img.split(\" \")\n",
        "      pixels = np.array(val, 'float32')\n",
        "      emotion = keras.utils.to_categorical(emotion, num_classes)\n",
        "      if 'PublicTest' in usage:\n",
        "          y_test.append(emotion)\n",
        "          x_test.append(pixels)\n",
        "\n",
        "  x_test = np.array(x_test, 'float32')\n",
        "  y_test = np.array(y_test, 'float32')\n",
        "  x_test /= 255\n",
        "  x_test = x_test.reshape(x_test.shape[0], 48, 48, 1)\n",
        "  x_test = x_test.astype('float32')\n",
        "  print(x_test.shape[0], 'test samples')\n",
        "\n",
        "  json_file = open('model.json', 'r')\n",
        "  loaded_model_json = json_file.read()\n",
        "  json_file.close()\n",
        "  loaded_model = model_from_json(loaded_model_json)\n",
        "  loaded_model.load_weights(\"model.h5\")\n",
        "  print(\"Loaded model from disk\")\n",
        "  loaded_model.compile(loss='categorical_crossentropy', optimizer=keras.optimizers.Adam(), metrics=['accuracy'])\n",
        "\n",
        "\n",
        "def emotion_analysis(emotions):\n",
        "    objects = ('angry', 'disgust', 'fear', 'happy', 'sad', 'surprise', 'neutral')\n",
        "    y_pos = np.arange(len(objects))\n",
        "    plt.bar(y_pos, emotions, align='center', alpha=0.5)\n",
        "    plt.xticks(y_pos, objects)\n",
        "    plt.ylabel('percentage')\n",
        "    plt.title('emotion')\n",
        "    plt.show()\n",
        "\n",
        "evaluation = loaded_model.evaluate(x_test, y_test, batch_size=256, verbose=1)\n",
        "end = time.time()\n",
        "print('Summary: Loss over the test data set: %.2f, Accuracy: %.2f' % (evaluation[0], evaluation[1]))\n",
        "print(\"Total Time in Testing Model: \", end-start)"
      ],
      "execution_count": 7,
      "outputs": [
        {
          "output_type": "stream",
          "text": [
            "3589 test samples\n",
            "Loaded model from disk\n",
            "3589/3589 [==============================] - 0s 92us/step\n",
            "Summary: Loss over the test data set: 3.73, Accuracy: 0.57\n",
            "Total Time in Testing Model:  15.731481313705444\n"
          ],
          "name": "stdout"
        }
      ]
    }
  ]
}