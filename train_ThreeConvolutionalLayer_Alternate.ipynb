{
  "nbformat": 4,
  "nbformat_minor": 0,
  "metadata": {
    "colab": {
      "name": "train_ThreeConvolutionalLayer_Alternate.ipynb",
      "version": "0.3.2",
      "provenance": [],
      "collapsed_sections": [],
      "toc_visible": true,
      "include_colab_link": true
    },
    "kernelspec": {
      "name": "python3",
      "display_name": "Python 3"
    },
    "accelerator": "GPU"
  },
  "cells": [
    {
      "cell_type": "markdown",
      "metadata": {
        "id": "view-in-github",
        "colab_type": "text"
      },
      "source": [
        "<a href=\"https://colab.research.google.com/github/FranciscoReveriano/Facial-Expression-Recognition/blob/master/train_ThreeConvolutionalLayer_Alternate.ipynb\" target=\"_parent\"><img src=\"https://colab.research.google.com/assets/colab-badge.svg\" alt=\"Open In Colab\"/></a>"
      ]
    },
    {
      "metadata": {
        "id": "K3dpKNWbTejk",
        "colab_type": "text"
      },
      "cell_type": "markdown",
      "source": [
        "# Original Model"
      ]
    },
    {
      "metadata": {
        "id": "RaUenXFMUAPB",
        "colab_type": "text"
      },
      "cell_type": "markdown",
      "source": [
        "##Train The Dataset"
      ]
    },
    {
      "metadata": {
        "id": "1U1nFtUcTluL",
        "colab_type": "text"
      },
      "cell_type": "markdown",
      "source": [
        "### Import Necessary Libaries"
      ]
    },
    {
      "metadata": {
        "id": "SOUiEvwPT07C",
        "colab_type": "code",
        "colab": {}
      },
      "cell_type": "code",
      "source": [
        "import tensorflow as tf\n",
        "import numpy as np\n",
        "import matplotlib.pyplot as plt\n",
        "import time \n",
        "\n",
        "import keras\n",
        "from keras.models import Sequential\n",
        "from keras.layers import Conv2D, MaxPooling2D, AveragePooling2D\n",
        "from keras.layers.core import Dense, Dropout, Flatten, Activation"
      ],
      "execution_count": 0,
      "outputs": []
    },
    {
      "metadata": {
        "id": "dBEOBGT6Ttvk",
        "colab_type": "text"
      },
      "cell_type": "markdown",
      "source": [
        "###Check for GPU"
      ]
    },
    {
      "metadata": {
        "id": "c4YAJd50UEvv",
        "colab_type": "code",
        "outputId": "ff32a132-17e0-453f-8f29-83bc0563a990",
        "colab": {
          "base_uri": "https://localhost:8080/",
          "height": 34
        }
      },
      "cell_type": "code",
      "source": [
        "device_name = tf.test.gpu_device_name()\n",
        "if device_name != '/device:GPU:0':\n",
        "  raise SystemError('GPU device not found')\n",
        "print('Found GPU at: {}'.format(device_name))\n",
        "\n",
        "config = tf.ConfigProto()\n",
        "sess = tf.Session(config=config)\n",
        "keras.backend.set_session(sess)"
      ],
      "execution_count": 64,
      "outputs": [
        {
          "output_type": "stream",
          "text": [
            "Found GPU at: /device:GPU:0\n"
          ],
          "name": "stdout"
        }
      ]
    },
    {
      "metadata": {
        "id": "80EtH_BmU4_N",
        "colab_type": "text"
      },
      "cell_type": "markdown",
      "source": [
        "### Select Settings"
      ]
    },
    {
      "metadata": {
        "id": "VNuX3XDlVBSz",
        "colab_type": "code",
        "colab": {}
      },
      "cell_type": "code",
      "source": [
        "num_classes = 7\n",
        "batch_size = 256\n",
        "epochs = 50\n",
        "VERBOSE = 1\n",
        "VALIDATION_SPLIT = 0.2"
      ],
      "execution_count": 0,
      "outputs": []
    },
    {
      "metadata": {
        "id": "kQL_8KQKVEiz",
        "colab_type": "text"
      },
      "cell_type": "markdown",
      "source": [
        "### Process Images"
      ]
    },
    {
      "metadata": {
        "id": "J0GrNNwZVNjW",
        "colab_type": "code",
        "outputId": "f605e499-d4ac-46e4-fd34-304137a7500b",
        "colab": {
          "base_uri": "https://localhost:8080/",
          "height": 67
        }
      },
      "cell_type": "code",
      "source": [
        "start = time.time() \n",
        "with tf.device('/GPU:0'):\n",
        "  with open(\"fer2013.csv\") as f:\n",
        "      content = f.readlines()\n",
        "  lines = np.array(content)\n",
        "  num_of_instances = lines.size\n",
        "end = time.time()\n",
        "print(\"Number of Images: \", num_of_instances)\n",
        "print(\"Pixel number of each image: \", len(lines[1].split(\",\")[1].split(\" \")))\n",
        "print(\"Time to prepare images = \", end-start)"
      ],
      "execution_count": 66,
      "outputs": [
        {
          "output_type": "stream",
          "text": [
            "Number of Images:  35888\n",
            "Pixel number of each image:  2304\n",
            "Time to prepare images =  1.4520723819732666\n"
          ],
          "name": "stdout"
        }
      ]
    },
    {
      "metadata": {
        "id": "vMFyGiH0WkNG",
        "colab_type": "text"
      },
      "cell_type": "markdown",
      "source": [
        "### Train the Model"
      ]
    },
    {
      "metadata": {
        "id": "7MAVCsHQHmx4",
        "colab_type": "code",
        "outputId": "8fbe0e90-e658-4f42-a02e-f9645bab8d62",
        "colab": {
          "base_uri": "https://localhost:8080/",
          "height": 1781
        }
      },
      "cell_type": "code",
      "source": [
        "start = time.time()\n",
        "with tf.device('/GPU:0'):\n",
        "  x_train, y_train = [], []\n",
        "\n",
        "  for i in range(1, num_of_instances):\n",
        "      emotion, img, usage = lines[i].split(\",\")\n",
        "      val = img.split(\" \")\n",
        "      pixels = np.array(val, 'float32')\n",
        "      emotion = keras.utils.to_categorical(emotion, num_classes)\n",
        "      if 'Training' in usage:\n",
        "          y_train.append(emotion)\n",
        "          x_train.append(pixels)\n",
        "\n",
        "  x_train = np.array(x_train, 'float32')\n",
        "  y_train = np.array(y_train, 'float32')\n",
        "  x_train /= 255\n",
        "  x_train = x_train.reshape(x_train.shape[0], 48, 48, 1)\n",
        "  x_train = x_train.astype('float32')\n",
        "  print(x_train.shape[0], 'train samples')\n",
        "\n",
        "  model = Sequential()\n",
        "\n",
        "  # Three Convolutional Layers\n",
        "  model.add(Conv2D(48, (3, 3),  activation='relu', padding='same', input_shape=(48, 48, 1)))\n",
        "  model.add(MaxPooling2D(pool_size=(2, 2)))\n",
        "  model.add(Conv2D(48, (3, 3), activation='relu', padding='same'))\n",
        "  model.add(MaxPooling2D(pool_size=(2, 2)))\n",
        "  model.add(Dropout(0.05))\n",
        "  model.add(Conv2D(96, (3, 3), activation='relu', padding='same'))\n",
        "  model.add(MaxPooling2D(pool_size=(2, 2)))\n",
        "  model.add(Dropout(0.1))\n",
        "  model.add(Flatten())\n",
        "  model.add(Dense(512, activation='relu'))\n",
        "  model.add(Dropout(0.3))\n",
        "  model.add(Dense(256, activation='relu'))\n",
        "\n",
        "  model.add(Dense(num_classes, activation='softmax'))\n",
        "  model.compile(loss='categorical_crossentropy', optimizer=keras.optimizers.Adam(), metrics=['accuracy'])\n",
        "  # model.summary()\n",
        "  history = model.fit(x_train, y_train, batch_size=batch_size, epochs=epochs, verbose=VERBOSE, validation_split=VALIDATION_SPLIT)\n",
        "\n",
        "  model_json = model.to_json()\n",
        "  with open(\"model.json\", \"w\") as json_file:\n",
        "      json_file.write(model_json)\n",
        "  model.save_weights(\"model.h5\")\n",
        "  print(\"Saved model to disk\")\n",
        "\n",
        "\n",
        "end = time.time()\n",
        "print(\"Saved model to disk\")\n",
        "print(\"Total Runtime To Train Model = \", end-start)"
      ],
      "execution_count": 67,
      "outputs": [
        {
          "output_type": "stream",
          "text": [
            "28709 train samples\n",
            "Train on 22967 samples, validate on 5742 samples\n",
            "Epoch 1/50\n",
            "22967/22967 [==============================] - 4s 187us/step - loss: 1.7767 - acc: 0.2696 - val_loss: 1.6694 - val_acc: 0.3304\n",
            "Epoch 2/50\n",
            "22967/22967 [==============================] - 3s 118us/step - loss: 1.5897 - acc: 0.3787 - val_loss: 1.5035 - val_acc: 0.4206\n",
            "Epoch 3/50\n",
            "22967/22967 [==============================] - 3s 119us/step - loss: 1.4691 - acc: 0.4336 - val_loss: 1.3769 - val_acc: 0.4704\n",
            "Epoch 4/50\n",
            "22967/22967 [==============================] - 3s 117us/step - loss: 1.3711 - acc: 0.4734 - val_loss: 1.2984 - val_acc: 0.5070\n",
            "Epoch 5/50\n",
            "22967/22967 [==============================] - 3s 118us/step - loss: 1.2816 - acc: 0.5069 - val_loss: 1.2603 - val_acc: 0.5155\n",
            "Epoch 6/50\n",
            "22967/22967 [==============================] - 3s 119us/step - loss: 1.2102 - acc: 0.5392 - val_loss: 1.2069 - val_acc: 0.5470\n",
            "Epoch 7/50\n",
            "22967/22967 [==============================] - 3s 118us/step - loss: 1.1446 - acc: 0.5669 - val_loss: 1.1918 - val_acc: 0.5559\n",
            "Epoch 8/50\n",
            "22967/22967 [==============================] - 3s 117us/step - loss: 1.0798 - acc: 0.5935 - val_loss: 1.1643 - val_acc: 0.5658\n",
            "Epoch 9/50\n",
            "22967/22967 [==============================] - 3s 117us/step - loss: 1.0059 - acc: 0.6235 - val_loss: 1.1583 - val_acc: 0.5702\n",
            "Epoch 10/50\n",
            "22967/22967 [==============================] - 3s 117us/step - loss: 0.9429 - acc: 0.6499 - val_loss: 1.1677 - val_acc: 0.5660\n",
            "Epoch 11/50\n",
            "22967/22967 [==============================] - 3s 117us/step - loss: 0.8672 - acc: 0.6757 - val_loss: 1.1507 - val_acc: 0.5834\n",
            "Epoch 12/50\n",
            "22967/22967 [==============================] - 3s 118us/step - loss: 0.8009 - acc: 0.7035 - val_loss: 1.1940 - val_acc: 0.5841\n",
            "Epoch 13/50\n",
            "22967/22967 [==============================] - 3s 117us/step - loss: 0.7226 - acc: 0.7331 - val_loss: 1.2237 - val_acc: 0.5724\n",
            "Epoch 14/50\n",
            "22967/22967 [==============================] - 3s 117us/step - loss: 0.6632 - acc: 0.7537 - val_loss: 1.2556 - val_acc: 0.5801\n",
            "Epoch 15/50\n",
            "22967/22967 [==============================] - 3s 116us/step - loss: 0.5834 - acc: 0.7863 - val_loss: 1.2879 - val_acc: 0.5831\n",
            "Epoch 16/50\n",
            "22967/22967 [==============================] - 3s 116us/step - loss: 0.5146 - acc: 0.8163 - val_loss: 1.3075 - val_acc: 0.5850\n",
            "Epoch 17/50\n",
            "22967/22967 [==============================] - 3s 116us/step - loss: 0.4736 - acc: 0.8277 - val_loss: 1.3981 - val_acc: 0.5770\n",
            "Epoch 18/50\n",
            "22967/22967 [==============================] - 3s 116us/step - loss: 0.4105 - acc: 0.8521 - val_loss: 1.5004 - val_acc: 0.5775\n",
            "Epoch 19/50\n",
            "22967/22967 [==============================] - 3s 116us/step - loss: 0.3716 - acc: 0.8675 - val_loss: 1.5074 - val_acc: 0.5822\n",
            "Epoch 20/50\n",
            "22967/22967 [==============================] - 3s 115us/step - loss: 0.3485 - acc: 0.8763 - val_loss: 1.5175 - val_acc: 0.5857\n",
            "Epoch 21/50\n",
            "22967/22967 [==============================] - 3s 115us/step - loss: 0.3059 - acc: 0.8906 - val_loss: 1.6298 - val_acc: 0.5785\n",
            "Epoch 22/50\n",
            "22967/22967 [==============================] - 3s 115us/step - loss: 0.2841 - acc: 0.8973 - val_loss: 1.7124 - val_acc: 0.5785\n",
            "Epoch 23/50\n",
            "22967/22967 [==============================] - 3s 115us/step - loss: 0.2662 - acc: 0.9058 - val_loss: 1.7229 - val_acc: 0.5824\n",
            "Epoch 24/50\n",
            "22967/22967 [==============================] - 3s 116us/step - loss: 0.2454 - acc: 0.9117 - val_loss: 1.6919 - val_acc: 0.5794\n",
            "Epoch 25/50\n",
            "22967/22967 [==============================] - 3s 118us/step - loss: 0.2330 - acc: 0.9167 - val_loss: 1.8392 - val_acc: 0.5772\n",
            "Epoch 26/50\n",
            "22967/22967 [==============================] - 3s 118us/step - loss: 0.2148 - acc: 0.9229 - val_loss: 1.8124 - val_acc: 0.5822\n",
            "Epoch 27/50\n",
            "22967/22967 [==============================] - 3s 115us/step - loss: 0.2078 - acc: 0.9281 - val_loss: 1.9071 - val_acc: 0.5803\n",
            "Epoch 28/50\n",
            "22967/22967 [==============================] - 3s 115us/step - loss: 0.1940 - acc: 0.9317 - val_loss: 1.8411 - val_acc: 0.5859\n",
            "Epoch 29/50\n",
            "22967/22967 [==============================] - 3s 116us/step - loss: 0.1837 - acc: 0.9348 - val_loss: 1.9408 - val_acc: 0.5899\n",
            "Epoch 30/50\n",
            "22967/22967 [==============================] - 3s 115us/step - loss: 0.1828 - acc: 0.9343 - val_loss: 1.9105 - val_acc: 0.5815\n",
            "Epoch 31/50\n",
            "22967/22967 [==============================] - 3s 115us/step - loss: 0.1819 - acc: 0.9370 - val_loss: 1.9287 - val_acc: 0.5843\n",
            "Epoch 32/50\n",
            "22967/22967 [==============================] - 3s 115us/step - loss: 0.1610 - acc: 0.9428 - val_loss: 2.0710 - val_acc: 0.5751\n",
            "Epoch 33/50\n",
            "22967/22967 [==============================] - 3s 115us/step - loss: 0.1617 - acc: 0.9439 - val_loss: 2.0284 - val_acc: 0.5838\n",
            "Epoch 34/50\n",
            "22967/22967 [==============================] - 3s 116us/step - loss: 0.1690 - acc: 0.9403 - val_loss: 1.9585 - val_acc: 0.5829\n",
            "Epoch 35/50\n",
            "22967/22967 [==============================] - 3s 117us/step - loss: 0.1497 - acc: 0.9496 - val_loss: 2.0671 - val_acc: 0.5867\n",
            "Epoch 36/50\n",
            "22967/22967 [==============================] - 3s 117us/step - loss: 0.1498 - acc: 0.9480 - val_loss: 2.1093 - val_acc: 0.5813\n",
            "Epoch 37/50\n",
            "22967/22967 [==============================] - 3s 118us/step - loss: 0.1370 - acc: 0.9513 - val_loss: 2.0890 - val_acc: 0.5852\n",
            "Epoch 38/50\n",
            "22967/22967 [==============================] - 3s 116us/step - loss: 0.1379 - acc: 0.9521 - val_loss: 2.1550 - val_acc: 0.5803\n",
            "Epoch 39/50\n",
            "22967/22967 [==============================] - 3s 115us/step - loss: 0.1364 - acc: 0.9525 - val_loss: 2.1155 - val_acc: 0.5866\n",
            "Epoch 40/50\n",
            "22967/22967 [==============================] - 3s 116us/step - loss: 0.1332 - acc: 0.9522 - val_loss: 2.1447 - val_acc: 0.5883\n",
            "Epoch 41/50\n",
            "22967/22967 [==============================] - 3s 115us/step - loss: 0.1276 - acc: 0.9555 - val_loss: 2.1415 - val_acc: 0.5831\n",
            "Epoch 42/50\n",
            "22967/22967 [==============================] - 3s 116us/step - loss: 0.1224 - acc: 0.9576 - val_loss: 2.2311 - val_acc: 0.5881\n",
            "Epoch 43/50\n",
            "22967/22967 [==============================] - 3s 116us/step - loss: 0.1256 - acc: 0.9557 - val_loss: 2.2552 - val_acc: 0.5799\n",
            "Epoch 44/50\n",
            "22967/22967 [==============================] - 3s 116us/step - loss: 0.1271 - acc: 0.9568 - val_loss: 2.1782 - val_acc: 0.5876\n",
            "Epoch 45/50\n",
            "22967/22967 [==============================] - 3s 116us/step - loss: 0.1134 - acc: 0.9603 - val_loss: 2.1631 - val_acc: 0.5871\n",
            "Epoch 46/50\n",
            "22967/22967 [==============================] - 3s 115us/step - loss: 0.1102 - acc: 0.9623 - val_loss: 2.2364 - val_acc: 0.5829\n",
            "Epoch 47/50\n",
            "22967/22967 [==============================] - 3s 115us/step - loss: 0.1210 - acc: 0.9577 - val_loss: 2.1693 - val_acc: 0.5825\n",
            "Epoch 48/50\n",
            "22967/22967 [==============================] - 3s 115us/step - loss: 0.1110 - acc: 0.9623 - val_loss: 2.2824 - val_acc: 0.5845\n",
            "Epoch 49/50\n",
            "22967/22967 [==============================] - 3s 116us/step - loss: 0.1140 - acc: 0.9610 - val_loss: 2.2882 - val_acc: 0.5791\n",
            "Epoch 50/50\n",
            "22967/22967 [==============================] - 3s 115us/step - loss: 0.1087 - acc: 0.9639 - val_loss: 2.3188 - val_acc: 0.5873\n",
            "Saved model to disk\n",
            "Saved model to disk\n",
            "Total Runtime To Train Model =  150.21883726119995\n"
          ],
          "name": "stdout"
        }
      ]
    },
    {
      "metadata": {
        "id": "5SIzv0mWYQnf",
        "colab_type": "text"
      },
      "cell_type": "markdown",
      "source": [
        "##Test the Dataset"
      ]
    },
    {
      "metadata": {
        "id": "E0OhxbLwYdCj",
        "colab_type": "text"
      },
      "cell_type": "markdown",
      "source": [
        "###Import Necessary Libraries"
      ]
    },
    {
      "metadata": {
        "id": "HXUYU_9SYhma",
        "colab_type": "code",
        "colab": {}
      },
      "cell_type": "code",
      "source": [
        "import numpy as np\n",
        "import matplotlib.pyplot as plt\n",
        "import keras\n",
        "import time\n",
        "from keras.models import model_from_json"
      ],
      "execution_count": 0,
      "outputs": []
    },
    {
      "metadata": {
        "id": "o7KOQV0JQ_3_",
        "colab_type": "code",
        "outputId": "2bd4c179-fc0e-4057-e978-467d0324e3de",
        "colab": {
          "base_uri": "https://localhost:8080/",
          "height": 101
        }
      },
      "cell_type": "code",
      "source": [
        "start = time.time()\n",
        "num_classes = 7\n",
        "with tf.device('/GPU:0'):\n",
        "  with open(\"fer2013.csv\") as f:\n",
        "      content = f.readlines()\n",
        "  lines = np.array(content)\n",
        "  num_of_instances = lines.size\n",
        "\n",
        "  x_test, y_test = [], []\n",
        "\n",
        "  for i in range(1, num_of_instances):\n",
        "      emotion, img, usage = lines[i].split(\",\")\n",
        "      val = img.split(\" \")\n",
        "      pixels = np.array(val, 'float32')\n",
        "      emotion = keras.utils.to_categorical(emotion, num_classes)\n",
        "      if 'PublicTest' in usage:\n",
        "          y_test.append(emotion)\n",
        "          x_test.append(pixels)\n",
        "\n",
        "  x_test = np.array(x_test, 'float32')\n",
        "  y_test = np.array(y_test, 'float32')\n",
        "  x_test /= 255\n",
        "  x_test = x_test.reshape(x_test.shape[0], 48, 48, 1)\n",
        "  x_test = x_test.astype('float32')\n",
        "  print(x_test.shape[0], 'test samples')\n",
        "\n",
        "  json_file = open('model.json', 'r')\n",
        "  loaded_model_json = json_file.read()\n",
        "  json_file.close()\n",
        "  loaded_model = model_from_json(loaded_model_json)\n",
        "  loaded_model.load_weights(\"model.h5\")\n",
        "  print(\"Loaded model from disk\")\n",
        "  loaded_model.compile(loss='categorical_crossentropy', optimizer=keras.optimizers.Adam(), metrics=['accuracy'])\n",
        "\n",
        "\n",
        "def emotion_analysis(emotions):\n",
        "    objects = ('angry', 'disgust', 'fear', 'happy', 'sad', 'surprise', 'neutral')\n",
        "    y_pos = np.arange(len(objects))\n",
        "    plt.bar(y_pos, emotions, align='center', alpha=0.5)\n",
        "    plt.xticks(y_pos, objects)\n",
        "    plt.ylabel('percentage')\n",
        "    plt.title('emotion')\n",
        "    plt.show()\n",
        "\n",
        "evaluation = loaded_model.evaluate(x_test, y_test, batch_size=256, verbose=1)\n",
        "end = time.time()\n",
        "print('Summary: Loss over the test data set: %.2f, Accuracy: %.2f' % (evaluation[0], evaluation[1]))\n",
        "print(\"Total Time in Testing Model: \", end-start)"
      ],
      "execution_count": 69,
      "outputs": [
        {
          "output_type": "stream",
          "text": [
            "3589 test samples\n",
            "Loaded model from disk\n",
            "3589/3589 [==============================] - 1s 204us/step\n",
            "Summary: Loss over the test data set: 2.46, Accuracy: 0.58\n",
            "Total Time in Testing Model:  16.114588737487793\n"
          ],
          "name": "stdout"
        }
      ]
    }
  ]
}