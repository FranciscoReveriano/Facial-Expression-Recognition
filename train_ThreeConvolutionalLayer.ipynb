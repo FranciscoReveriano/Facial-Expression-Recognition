{
  "nbformat": 4,
  "nbformat_minor": 0,
  "metadata": {
    "colab": {
      "name": "train_ThreeConvolutionalLayer.ipynb",
      "version": "0.3.2",
      "provenance": [],
      "collapsed_sections": [],
      "toc_visible": true,
      "include_colab_link": true
    },
    "kernelspec": {
      "name": "python3",
      "display_name": "Python 3"
    },
    "accelerator": "GPU"
  },
  "cells": [
    {
      "cell_type": "markdown",
      "metadata": {
        "id": "view-in-github",
        "colab_type": "text"
      },
      "source": [
        "<a href=\"https://colab.research.google.com/github/FranciscoReveriano/Facial-Expression-Recognition/blob/master/train_ThreeConvolutionalLayer.ipynb\" target=\"_parent\"><img src=\"https://colab.research.google.com/assets/colab-badge.svg\" alt=\"Open In Colab\"/></a>"
      ]
    },
    {
      "metadata": {
        "id": "K3dpKNWbTejk",
        "colab_type": "text"
      },
      "cell_type": "markdown",
      "source": [
        "# Original Model"
      ]
    },
    {
      "metadata": {
        "id": "RaUenXFMUAPB",
        "colab_type": "text"
      },
      "cell_type": "markdown",
      "source": [
        "##Train The Dataset"
      ]
    },
    {
      "metadata": {
        "id": "1U1nFtUcTluL",
        "colab_type": "text"
      },
      "cell_type": "markdown",
      "source": [
        "### Import Necessary Libaries"
      ]
    },
    {
      "metadata": {
        "id": "SOUiEvwPT07C",
        "colab_type": "code",
        "colab": {}
      },
      "cell_type": "code",
      "source": [
        "import tensorflow as tf\n",
        "import numpy as np\n",
        "import matplotlib.pyplot as plt\n",
        "import time \n",
        "\n",
        "import keras\n",
        "from keras.models import Sequential\n",
        "from keras.layers import Conv2D, MaxPooling2D, AveragePooling2D\n",
        "from keras.layers.core import Dense, Dropout, Flatten, Activation"
      ],
      "execution_count": 0,
      "outputs": []
    },
    {
      "metadata": {
        "id": "dBEOBGT6Ttvk",
        "colab_type": "text"
      },
      "cell_type": "markdown",
      "source": [
        "###Check for GPU"
      ]
    },
    {
      "metadata": {
        "id": "c4YAJd50UEvv",
        "colab_type": "code",
        "outputId": "fd8f4503-95d1-440c-bae4-c2e223c119ee",
        "colab": {
          "base_uri": "https://localhost:8080/",
          "height": 34
        }
      },
      "cell_type": "code",
      "source": [
        "device_name = tf.test.gpu_device_name()\n",
        "if device_name != '/device:GPU:0':\n",
        "  raise SystemError('GPU device not found')\n",
        "print('Found GPU at: {}'.format(device_name))\n",
        "\n",
        "config = tf.ConfigProto()\n",
        "sess = tf.Session(config=config)\n",
        "keras.backend.set_session(sess)"
      ],
      "execution_count": 57,
      "outputs": [
        {
          "output_type": "stream",
          "text": [
            "Found GPU at: /device:GPU:0\n"
          ],
          "name": "stdout"
        }
      ]
    },
    {
      "metadata": {
        "id": "80EtH_BmU4_N",
        "colab_type": "text"
      },
      "cell_type": "markdown",
      "source": [
        "### Select Settings"
      ]
    },
    {
      "metadata": {
        "id": "VNuX3XDlVBSz",
        "colab_type": "code",
        "colab": {}
      },
      "cell_type": "code",
      "source": [
        "num_classes = 7\n",
        "batch_size = 256\n",
        "epochs = 50\n",
        "VERBOSE = 1\n",
        "VALIDATION_SPLIT = 0.2"
      ],
      "execution_count": 0,
      "outputs": []
    },
    {
      "metadata": {
        "id": "kQL_8KQKVEiz",
        "colab_type": "text"
      },
      "cell_type": "markdown",
      "source": [
        "### Process Images"
      ]
    },
    {
      "metadata": {
        "id": "J0GrNNwZVNjW",
        "colab_type": "code",
        "outputId": "a1b72701-9fd7-4067-edb4-f1bd5a46692c",
        "colab": {
          "base_uri": "https://localhost:8080/",
          "height": 67
        }
      },
      "cell_type": "code",
      "source": [
        "start = time.time() \n",
        "with tf.device('/GPU:0'):\n",
        "  with open(\"fer2013.csv\") as f:\n",
        "      content = f.readlines()\n",
        "  lines = np.array(content)\n",
        "  num_of_instances = lines.size\n",
        "end = time.time()\n",
        "print(\"Number of Images: \", num_of_instances)\n",
        "print(\"Pixel number of each image: \", len(lines[1].split(\",\")[1].split(\" \")))\n",
        "print(\"Time to prepare images = \", end-start)"
      ],
      "execution_count": 59,
      "outputs": [
        {
          "output_type": "stream",
          "text": [
            "Number of Images:  35888\n",
            "Pixel number of each image:  2304\n",
            "Time to prepare images =  1.465879201889038\n"
          ],
          "name": "stdout"
        }
      ]
    },
    {
      "metadata": {
        "id": "vMFyGiH0WkNG",
        "colab_type": "text"
      },
      "cell_type": "markdown",
      "source": [
        "### Train the Model"
      ]
    },
    {
      "metadata": {
        "id": "7MAVCsHQHmx4",
        "colab_type": "code",
        "outputId": "bd7174e2-764a-4c4f-8df8-e5ac85d7379b",
        "colab": {
          "base_uri": "https://localhost:8080/",
          "height": 1781
        }
      },
      "cell_type": "code",
      "source": [
        "start = time.time()\n",
        "with tf.device('/GPU:0'):\n",
        "  x_train, y_train = [], []\n",
        "\n",
        "  for i in range(1, num_of_instances):\n",
        "      emotion, img, usage = lines[i].split(\",\")\n",
        "      val = img.split(\" \")\n",
        "      pixels = np.array(val, 'float32')\n",
        "      emotion = keras.utils.to_categorical(emotion, num_classes)\n",
        "      if 'Training' in usage:\n",
        "          y_train.append(emotion)\n",
        "          x_train.append(pixels)\n",
        "\n",
        "  x_train = np.array(x_train, 'float32')\n",
        "  y_train = np.array(y_train, 'float32')\n",
        "  x_train /= 255\n",
        "  x_train = x_train.reshape(x_train.shape[0], 48, 48, 1)\n",
        "  x_train = x_train.astype('float32')\n",
        "  print(x_train.shape[0], 'train samples')\n",
        "\n",
        "  model = Sequential()\n",
        "\n",
        "  # Three Convolutional Layers\n",
        "  model.add(Conv2D(32, (3, 3),  activation='relu', padding='same', input_shape=(48, 48, 1)))\n",
        "  model.add(MaxPooling2D(pool_size=(2, 2)))\n",
        "  model.add(Dropout(0.15))\n",
        "  model.add(Conv2D(64, (3, 3), activation='relu', padding='same'))\n",
        "  model.add(MaxPooling2D(pool_size=(2, 2)))\n",
        "  model.add(Dropout(0.15))\n",
        "  model.add(Conv2D(128, (3, 3), activation='relu', padding='same'))\n",
        "  model.add(MaxPooling2D(pool_size=(2, 2)))\n",
        "  model.add(Dropout(0.15))\n",
        "  model.add(Flatten())\n",
        "  model.add(Dense(1024, activation='relu'))\n",
        "  model.add(Dropout(0.3))\n",
        "  model.add(Dense(512, activation='relu'))\n",
        "  model.add(Dropout(0.3))\n",
        "\n",
        "  model.add(Dense(num_classes, activation='softmax'))\n",
        "  model.compile(loss='categorical_crossentropy', optimizer=keras.optimizers.Adam(), metrics=['accuracy'])\n",
        "  # model.summary()\n",
        "  history = model.fit(x_train, y_train, batch_size=batch_size, epochs=epochs, verbose=VERBOSE, validation_split=VALIDATION_SPLIT)\n",
        "\n",
        "  model_json = model.to_json()\n",
        "  with open(\"model.json\", \"w\") as json_file:\n",
        "      json_file.write(model_json)\n",
        "  model.save_weights(\"model.h5\")\n",
        "  print(\"Saved model to disk\")\n",
        "\n",
        "\n",
        "end = time.time()\n",
        "print(\"Saved model to disk\")\n",
        "print(\"Total Runtime To Train Model = \", end-start)"
      ],
      "execution_count": 60,
      "outputs": [
        {
          "output_type": "stream",
          "text": [
            "28709 train samples\n",
            "Train on 22967 samples, validate on 5742 samples\n",
            "Epoch 1/50\n",
            "22967/22967 [==============================] - 4s 174us/step - loss: 1.8080 - acc: 0.2501 - val_loss: 1.7311 - val_acc: 0.2941\n",
            "Epoch 2/50\n",
            "22967/22967 [==============================] - 3s 123us/step - loss: 1.6464 - acc: 0.3466 - val_loss: 1.5235 - val_acc: 0.4180\n",
            "Epoch 3/50\n",
            "22967/22967 [==============================] - 3s 123us/step - loss: 1.5046 - acc: 0.4167 - val_loss: 1.4104 - val_acc: 0.4648\n",
            "Epoch 4/50\n",
            "22967/22967 [==============================] - 3s 124us/step - loss: 1.3953 - acc: 0.4633 - val_loss: 1.3000 - val_acc: 0.5000\n",
            "Epoch 5/50\n",
            "22967/22967 [==============================] - 3s 123us/step - loss: 1.3019 - acc: 0.5020 - val_loss: 1.2554 - val_acc: 0.5158\n",
            "Epoch 6/50\n",
            "22967/22967 [==============================] - 3s 124us/step - loss: 1.2322 - acc: 0.5305 - val_loss: 1.2061 - val_acc: 0.5439\n",
            "Epoch 7/50\n",
            "22967/22967 [==============================] - 3s 124us/step - loss: 1.1660 - acc: 0.5556 - val_loss: 1.1648 - val_acc: 0.5676\n",
            "Epoch 8/50\n",
            "22967/22967 [==============================] - 3s 125us/step - loss: 1.0996 - acc: 0.5843 - val_loss: 1.1329 - val_acc: 0.5792\n",
            "Epoch 9/50\n",
            "22967/22967 [==============================] - 3s 126us/step - loss: 1.0353 - acc: 0.6098 - val_loss: 1.1312 - val_acc: 0.5784\n",
            "Epoch 10/50\n",
            "22967/22967 [==============================] - 3s 126us/step - loss: 0.9675 - acc: 0.6399 - val_loss: 1.1259 - val_acc: 0.5845\n",
            "Epoch 11/50\n",
            "22967/22967 [==============================] - 3s 125us/step - loss: 0.8937 - acc: 0.6683 - val_loss: 1.1242 - val_acc: 0.5843\n",
            "Epoch 12/50\n",
            "22967/22967 [==============================] - 3s 124us/step - loss: 0.8190 - acc: 0.6987 - val_loss: 1.1451 - val_acc: 0.5928\n",
            "Epoch 13/50\n",
            "22967/22967 [==============================] - 3s 123us/step - loss: 0.7339 - acc: 0.7302 - val_loss: 1.1930 - val_acc: 0.5850\n",
            "Epoch 14/50\n",
            "22967/22967 [==============================] - 3s 123us/step - loss: 0.6762 - acc: 0.7539 - val_loss: 1.2117 - val_acc: 0.5937\n",
            "Epoch 15/50\n",
            "22967/22967 [==============================] - 3s 123us/step - loss: 0.6044 - acc: 0.7816 - val_loss: 1.2484 - val_acc: 0.5920\n",
            "Epoch 16/50\n",
            "22967/22967 [==============================] - 3s 123us/step - loss: 0.5329 - acc: 0.8111 - val_loss: 1.3491 - val_acc: 0.5864\n",
            "Epoch 17/50\n",
            "22967/22967 [==============================] - 3s 123us/step - loss: 0.4759 - acc: 0.8304 - val_loss: 1.3529 - val_acc: 0.5885\n",
            "Epoch 18/50\n",
            "22967/22967 [==============================] - 3s 122us/step - loss: 0.4333 - acc: 0.8449 - val_loss: 1.4161 - val_acc: 0.5893\n",
            "Epoch 19/50\n",
            "22967/22967 [==============================] - 3s 122us/step - loss: 0.3919 - acc: 0.8614 - val_loss: 1.4663 - val_acc: 0.5824\n",
            "Epoch 20/50\n",
            "22967/22967 [==============================] - 3s 122us/step - loss: 0.3564 - acc: 0.8735 - val_loss: 1.4767 - val_acc: 0.5923\n",
            "Epoch 21/50\n",
            "22967/22967 [==============================] - 3s 122us/step - loss: 0.3230 - acc: 0.8860 - val_loss: 1.5332 - val_acc: 0.5920\n",
            "Epoch 22/50\n",
            "22967/22967 [==============================] - 3s 122us/step - loss: 0.3109 - acc: 0.8915 - val_loss: 1.5555 - val_acc: 0.5890\n",
            "Epoch 23/50\n",
            "22967/22967 [==============================] - 3s 122us/step - loss: 0.2880 - acc: 0.8965 - val_loss: 1.5852 - val_acc: 0.5899\n",
            "Epoch 24/50\n",
            "22967/22967 [==============================] - 3s 122us/step - loss: 0.2668 - acc: 0.9074 - val_loss: 1.6316 - val_acc: 0.5862\n",
            "Epoch 25/50\n",
            "22967/22967 [==============================] - 3s 122us/step - loss: 0.2467 - acc: 0.9127 - val_loss: 1.6529 - val_acc: 0.5939\n",
            "Epoch 26/50\n",
            "22967/22967 [==============================] - 3s 122us/step - loss: 0.2304 - acc: 0.9188 - val_loss: 1.6948 - val_acc: 0.5857\n",
            "Epoch 27/50\n",
            "22967/22967 [==============================] - 3s 121us/step - loss: 0.2094 - acc: 0.9269 - val_loss: 1.7565 - val_acc: 0.5787\n",
            "Epoch 28/50\n",
            "22967/22967 [==============================] - 3s 122us/step - loss: 0.2116 - acc: 0.9257 - val_loss: 1.7415 - val_acc: 0.5864\n",
            "Epoch 29/50\n",
            "22967/22967 [==============================] - 3s 122us/step - loss: 0.1926 - acc: 0.9339 - val_loss: 1.8149 - val_acc: 0.5873\n",
            "Epoch 30/50\n",
            "22967/22967 [==============================] - 3s 121us/step - loss: 0.1877 - acc: 0.9363 - val_loss: 1.8340 - val_acc: 0.5913\n",
            "Epoch 31/50\n",
            "22967/22967 [==============================] - 3s 122us/step - loss: 0.1759 - acc: 0.9397 - val_loss: 1.8419 - val_acc: 0.5846\n",
            "Epoch 32/50\n",
            "22967/22967 [==============================] - 3s 122us/step - loss: 0.1757 - acc: 0.9402 - val_loss: 1.8470 - val_acc: 0.5812\n",
            "Epoch 33/50\n",
            "22967/22967 [==============================] - 3s 122us/step - loss: 0.1641 - acc: 0.9432 - val_loss: 1.8462 - val_acc: 0.5815\n",
            "Epoch 34/50\n",
            "22967/22967 [==============================] - 3s 122us/step - loss: 0.1569 - acc: 0.9468 - val_loss: 1.8712 - val_acc: 0.5857\n",
            "Epoch 35/50\n",
            "22967/22967 [==============================] - 3s 122us/step - loss: 0.1564 - acc: 0.9451 - val_loss: 1.9221 - val_acc: 0.5902\n",
            "Epoch 36/50\n",
            "22967/22967 [==============================] - 3s 123us/step - loss: 0.1475 - acc: 0.9490 - val_loss: 1.9412 - val_acc: 0.5853\n",
            "Epoch 37/50\n",
            "22967/22967 [==============================] - 3s 125us/step - loss: 0.1460 - acc: 0.9505 - val_loss: 1.9154 - val_acc: 0.5768\n",
            "Epoch 38/50\n",
            "22967/22967 [==============================] - 3s 125us/step - loss: 0.1461 - acc: 0.9497 - val_loss: 1.9998 - val_acc: 0.5813\n",
            "Epoch 39/50\n",
            "22967/22967 [==============================] - 3s 126us/step - loss: 0.1423 - acc: 0.9495 - val_loss: 1.9064 - val_acc: 0.5812\n",
            "Epoch 40/50\n",
            "22967/22967 [==============================] - 3s 124us/step - loss: 0.1257 - acc: 0.9555 - val_loss: 1.9660 - val_acc: 0.5900\n",
            "Epoch 41/50\n",
            "22967/22967 [==============================] - 3s 122us/step - loss: 0.1378 - acc: 0.9526 - val_loss: 1.9381 - val_acc: 0.5815\n",
            "Epoch 42/50\n",
            "22967/22967 [==============================] - 3s 123us/step - loss: 0.1286 - acc: 0.9555 - val_loss: 1.9964 - val_acc: 0.5820\n",
            "Epoch 43/50\n",
            "22967/22967 [==============================] - 3s 123us/step - loss: 0.1267 - acc: 0.9556 - val_loss: 1.9803 - val_acc: 0.5897\n",
            "Epoch 44/50\n",
            "22967/22967 [==============================] - 3s 122us/step - loss: 0.1252 - acc: 0.9582 - val_loss: 1.9709 - val_acc: 0.5923\n",
            "Epoch 45/50\n",
            "22967/22967 [==============================] - 3s 122us/step - loss: 0.1228 - acc: 0.9578 - val_loss: 1.9758 - val_acc: 0.5819\n",
            "Epoch 46/50\n",
            "22967/22967 [==============================] - 3s 122us/step - loss: 0.1186 - acc: 0.9591 - val_loss: 2.0164 - val_acc: 0.5909\n",
            "Epoch 47/50\n",
            "22967/22967 [==============================] - 3s 122us/step - loss: 0.1048 - acc: 0.9639 - val_loss: 2.0970 - val_acc: 0.5951\n",
            "Epoch 48/50\n",
            "22967/22967 [==============================] - 3s 123us/step - loss: 0.1149 - acc: 0.9598 - val_loss: 2.0175 - val_acc: 0.5853\n",
            "Epoch 49/50\n",
            "22967/22967 [==============================] - 3s 122us/step - loss: 0.1066 - acc: 0.9636 - val_loss: 2.0703 - val_acc: 0.5862\n",
            "Epoch 50/50\n",
            "22967/22967 [==============================] - 3s 123us/step - loss: 0.1149 - acc: 0.9599 - val_loss: 2.0357 - val_acc: 0.5843\n",
            "Saved model to disk\n",
            "Saved model to disk\n",
            "Total Runtime To Train Model =  157.49080681800842\n"
          ],
          "name": "stdout"
        }
      ]
    },
    {
      "metadata": {
        "id": "5SIzv0mWYQnf",
        "colab_type": "text"
      },
      "cell_type": "markdown",
      "source": [
        "##Test the Dataset"
      ]
    },
    {
      "metadata": {
        "id": "E0OhxbLwYdCj",
        "colab_type": "text"
      },
      "cell_type": "markdown",
      "source": [
        "###Import Necessary Libraries"
      ]
    },
    {
      "metadata": {
        "id": "HXUYU_9SYhma",
        "colab_type": "code",
        "colab": {}
      },
      "cell_type": "code",
      "source": [
        "import numpy as np\n",
        "import matplotlib.pyplot as plt\n",
        "import keras\n",
        "import time\n",
        "from keras.models import model_from_json"
      ],
      "execution_count": 0,
      "outputs": []
    },
    {
      "metadata": {
        "id": "o7KOQV0JQ_3_",
        "colab_type": "code",
        "outputId": "62cc8ea2-160c-4b04-ba78-949d3371a711",
        "colab": {
          "base_uri": "https://localhost:8080/",
          "height": 101
        }
      },
      "cell_type": "code",
      "source": [
        "start = time.time()\n",
        "num_classes = 7\n",
        "with tf.device('/GPU:0'):\n",
        "  with open(\"fer2013.csv\") as f:\n",
        "      content = f.readlines()\n",
        "  lines = np.array(content)\n",
        "  num_of_instances = lines.size\n",
        "\n",
        "  x_test, y_test = [], []\n",
        "\n",
        "  for i in range(1, num_of_instances):\n",
        "      emotion, img, usage = lines[i].split(\",\")\n",
        "      val = img.split(\" \")\n",
        "      pixels = np.array(val, 'float32')\n",
        "      emotion = keras.utils.to_categorical(emotion, num_classes)\n",
        "      if 'PublicTest' in usage:\n",
        "          y_test.append(emotion)\n",
        "          x_test.append(pixels)\n",
        "\n",
        "  x_test = np.array(x_test, 'float32')\n",
        "  y_test = np.array(y_test, 'float32')\n",
        "  x_test /= 255\n",
        "  x_test = x_test.reshape(x_test.shape[0], 48, 48, 1)\n",
        "  x_test = x_test.astype('float32')\n",
        "  print(x_test.shape[0], 'test samples')\n",
        "\n",
        "  json_file = open('model.json', 'r')\n",
        "  loaded_model_json = json_file.read()\n",
        "  json_file.close()\n",
        "  loaded_model = model_from_json(loaded_model_json)\n",
        "  loaded_model.load_weights(\"model.h5\")\n",
        "  print(\"Loaded model from disk\")\n",
        "  loaded_model.compile(loss='categorical_crossentropy', optimizer=keras.optimizers.Adam(), metrics=['accuracy'])\n",
        "\n",
        "\n",
        "def emotion_analysis(emotions):\n",
        "    objects = ('angry', 'disgust', 'fear', 'happy', 'sad', 'surprise', 'neutral')\n",
        "    y_pos = np.arange(len(objects))\n",
        "    plt.bar(y_pos, emotions, align='center', alpha=0.5)\n",
        "    plt.xticks(y_pos, objects)\n",
        "    plt.ylabel('percentage')\n",
        "    plt.title('emotion')\n",
        "    plt.show()\n",
        "\n",
        "evaluation = loaded_model.evaluate(x_test, y_test, batch_size=256, verbose=1)\n",
        "end = time.time()\n",
        "print('Summary: Loss over the test data set: %.2f, Accuracy: %.2f' % (evaluation[0], evaluation[1]))\n",
        "print(\"Total Time in Testing Model: \", end-start)"
      ],
      "execution_count": 62,
      "outputs": [
        {
          "output_type": "stream",
          "text": [
            "3589 test samples\n",
            "Loaded model from disk\n",
            "3589/3589 [==============================] - 1s 173us/step\n",
            "Summary: Loss over the test data set: 2.09, Accuracy: 0.58\n",
            "Total Time in Testing Model:  15.957752466201782\n"
          ],
          "name": "stdout"
        }
      ]
    }
  ]
}