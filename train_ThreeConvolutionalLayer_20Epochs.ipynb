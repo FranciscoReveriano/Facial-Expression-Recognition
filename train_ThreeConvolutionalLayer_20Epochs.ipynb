{
  "nbformat": 4,
  "nbformat_minor": 0,
  "metadata": {
    "colab": {
      "name": "train_ThreeConvolutionalLayer_20Epochs.ipynb",
      "version": "0.3.2",
      "provenance": [],
      "collapsed_sections": [],
      "toc_visible": true,
      "include_colab_link": true
    },
    "kernelspec": {
      "name": "python3",
      "display_name": "Python 3"
    },
    "accelerator": "GPU"
  },
  "cells": [
    {
      "cell_type": "markdown",
      "metadata": {
        "id": "view-in-github",
        "colab_type": "text"
      },
      "source": [
        "<a href=\"https://colab.research.google.com/github/FranciscoReveriano/Facial-Expression-Recognition/blob/Version-4/train_ThreeConvolutionalLayer_20Epochs.ipynb\" target=\"_parent\"><img src=\"https://colab.research.google.com/assets/colab-badge.svg\" alt=\"Open In Colab\"/></a>"
      ]
    },
    {
      "metadata": {
        "id": "K3dpKNWbTejk",
        "colab_type": "text"
      },
      "cell_type": "markdown",
      "source": [
        "# Original Model"
      ]
    },
    {
      "metadata": {
        "id": "RaUenXFMUAPB",
        "colab_type": "text"
      },
      "cell_type": "markdown",
      "source": [
        "##Train The Dataset"
      ]
    },
    {
      "metadata": {
        "id": "1U1nFtUcTluL",
        "colab_type": "text"
      },
      "cell_type": "markdown",
      "source": [
        "### Import Necessary Libaries"
      ]
    },
    {
      "metadata": {
        "id": "SOUiEvwPT07C",
        "colab_type": "code",
        "colab": {}
      },
      "cell_type": "code",
      "source": [
        "import tensorflow as tf\n",
        "import numpy as np\n",
        "import matplotlib.pyplot as plt\n",
        "import time \n",
        "\n",
        "import keras\n",
        "from keras.models import Sequential\n",
        "from keras.layers import Conv2D, MaxPooling2D, AveragePooling2D\n",
        "from keras.layers.core import Dense, Dropout, Flatten, Activation"
      ],
      "execution_count": 0,
      "outputs": []
    },
    {
      "metadata": {
        "id": "dBEOBGT6Ttvk",
        "colab_type": "text"
      },
      "cell_type": "markdown",
      "source": [
        "###Check for GPU"
      ]
    },
    {
      "metadata": {
        "id": "c4YAJd50UEvv",
        "colab_type": "code",
        "outputId": "79d32caf-2cef-4425-93f0-48daeaf125ec",
        "colab": {
          "base_uri": "https://localhost:8080/",
          "height": 34
        }
      },
      "cell_type": "code",
      "source": [
        "device_name = tf.test.gpu_device_name()\n",
        "if device_name != '/device:GPU:0':\n",
        "  raise SystemError('GPU device not found')\n",
        "print('Found GPU at: {}'.format(device_name))\n",
        "\n",
        "config = tf.ConfigProto()\n",
        "sess = tf.Session(config=config)\n",
        "keras.backend.set_session(sess)"
      ],
      "execution_count": 30,
      "outputs": [
        {
          "output_type": "stream",
          "text": [
            "Found GPU at: /device:GPU:0\n"
          ],
          "name": "stdout"
        }
      ]
    },
    {
      "metadata": {
        "id": "80EtH_BmU4_N",
        "colab_type": "text"
      },
      "cell_type": "markdown",
      "source": [
        "### Select Settings"
      ]
    },
    {
      "metadata": {
        "id": "VNuX3XDlVBSz",
        "colab_type": "code",
        "colab": {}
      },
      "cell_type": "code",
      "source": [
        "num_classes = 7\n",
        "batch_size = 256\n",
        "epochs = 20\n",
        "VERBOSE = 1\n",
        "VALIDATION_SPLIT = 0.2"
      ],
      "execution_count": 0,
      "outputs": []
    },
    {
      "metadata": {
        "id": "kQL_8KQKVEiz",
        "colab_type": "text"
      },
      "cell_type": "markdown",
      "source": [
        "### Process Images"
      ]
    },
    {
      "metadata": {
        "id": "J0GrNNwZVNjW",
        "colab_type": "code",
        "outputId": "7f610823-f3c5-4f4b-a82e-7e29bbaeddf3",
        "colab": {
          "base_uri": "https://localhost:8080/",
          "height": 67
        }
      },
      "cell_type": "code",
      "source": [
        "startTime = time.time()\n",
        "start = time.time() \n",
        "with tf.device('/GPU:0'):\n",
        "  with open(\"fer2013.csv\") as f:\n",
        "      content = f.readlines()\n",
        "  lines = np.array(content)\n",
        "  num_of_instances = lines.size\n",
        "end = time.time()\n",
        "print(\"Number of Images: \", num_of_instances)\n",
        "print(\"Pixel number of each image: \", len(lines[1].split(\",\")[1].split(\" \")))\n",
        "print(\"Time to prepare images = \", end-start)"
      ],
      "execution_count": 32,
      "outputs": [
        {
          "output_type": "stream",
          "text": [
            "Number of Images:  35888\n",
            "Pixel number of each image:  2304\n",
            "Time to prepare images =  1.4653408527374268\n"
          ],
          "name": "stdout"
        }
      ]
    },
    {
      "metadata": {
        "id": "vMFyGiH0WkNG",
        "colab_type": "text"
      },
      "cell_type": "markdown",
      "source": [
        "### Train the Model"
      ]
    },
    {
      "metadata": {
        "id": "7MAVCsHQHmx4",
        "colab_type": "code",
        "outputId": "d87a1fbf-fa95-4f21-cad1-6eba957a2e4e",
        "colab": {
          "base_uri": "https://localhost:8080/",
          "height": 773
        }
      },
      "cell_type": "code",
      "source": [
        "start = time.time()\n",
        "with tf.device('/GPU:0'):\n",
        "  x_train, y_train = [], []\n",
        "\n",
        "  for i in range(1, num_of_instances):\n",
        "      emotion, img, usage = lines[i].split(\",\")\n",
        "      val = img.split(\" \")\n",
        "      pixels = np.array(val, 'float32')\n",
        "      emotion = keras.utils.to_categorical(emotion, num_classes)\n",
        "      if 'Training' in usage:\n",
        "          y_train.append(emotion)\n",
        "          x_train.append(pixels)\n",
        "\n",
        "  x_train = np.array(x_train, 'float32')\n",
        "  y_train = np.array(y_train, 'float32')\n",
        "  x_train /= 255\n",
        "  x_train = x_train.reshape(x_train.shape[0], 48, 48, 1)\n",
        "  x_train = x_train.astype('float32')\n",
        "  print(x_train.shape[0], 'train samples')\n",
        "\n",
        "  model = Sequential()\n",
        "\n",
        "  # Three Convolutional Layers\n",
        "  model.add(Conv2D(32, (3, 3),  activation='relu', padding='same', input_shape=(48, 48, 1)))\n",
        "  model.add(MaxPooling2D(pool_size=(2, 2)))\n",
        "  model.add(Dropout(0.15))\n",
        "  model.add(Conv2D(64, (3, 3), activation='relu', padding='same'))\n",
        "  model.add(MaxPooling2D(pool_size=(2, 2)))\n",
        "  model.add(Dropout(0.15))\n",
        "  model.add(Conv2D(128, (3, 3), activation='relu', padding='same'))\n",
        "  model.add(MaxPooling2D(pool_size=(2, 2)))\n",
        "  model.add(Dropout(0.15))\n",
        "  model.add(Flatten())\n",
        "  model.add(Dense(1024, activation='relu'))\n",
        "  model.add(Dropout(0.3))\n",
        "  model.add(Dense(512, activation='relu'))\n",
        "  model.add(Dropout(0.3))\n",
        "\n",
        "  model.add(Dense(num_classes, activation='softmax'))\n",
        "  model.compile(loss='categorical_crossentropy', optimizer=keras.optimizers.Adam(), metrics=['accuracy'])\n",
        "  # model.summary()\n",
        "  history = model.fit(x_train, y_train, batch_size=batch_size, epochs=epochs, verbose=VERBOSE, validation_split=VALIDATION_SPLIT)\n",
        "\n",
        "  model_json = model.to_json()\n",
        "  with open(\"model.json\", \"w\") as json_file:\n",
        "      json_file.write(model_json)\n",
        "  model.save_weights(\"model.h5\")\n",
        "  print(\"Saved model to disk\")\n",
        "\n",
        "endTime= time.time()\n",
        "end = time.time()\n",
        "print(\"Total Runtime To Train Model = \", end-start)\n",
        "print(\"TOtal Runtime to Train Full Model = \", endTime - startTime)"
      ],
      "execution_count": 33,
      "outputs": [
        {
          "output_type": "stream",
          "text": [
            "28709 train samples\n",
            "Train on 22967 samples, validate on 5742 samples\n",
            "Epoch 1/20\n",
            "22967/22967 [==============================] - 4s 174us/step - loss: 1.8139 - acc: 0.2469 - val_loss: 1.7936 - val_acc: 0.2374\n",
            "Epoch 2/20\n",
            "22967/22967 [==============================] - 3s 122us/step - loss: 1.6741 - acc: 0.3275 - val_loss: 1.5425 - val_acc: 0.4023\n",
            "Epoch 3/20\n",
            "22967/22967 [==============================] - 3s 122us/step - loss: 1.5235 - acc: 0.4102 - val_loss: 1.4207 - val_acc: 0.4532\n",
            "Epoch 4/20\n",
            "22967/22967 [==============================] - 3s 122us/step - loss: 1.4137 - acc: 0.4574 - val_loss: 1.3155 - val_acc: 0.5002\n",
            "Epoch 5/20\n",
            "22967/22967 [==============================] - 3s 123us/step - loss: 1.3320 - acc: 0.4870 - val_loss: 1.2617 - val_acc: 0.5233\n",
            "Epoch 6/20\n",
            "22967/22967 [==============================] - 3s 122us/step - loss: 1.2582 - acc: 0.5245 - val_loss: 1.2062 - val_acc: 0.5428\n",
            "Epoch 7/20\n",
            "22967/22967 [==============================] - 3s 123us/step - loss: 1.1924 - acc: 0.5498 - val_loss: 1.2276 - val_acc: 0.5286\n",
            "Epoch 8/20\n",
            "22967/22967 [==============================] - 3s 123us/step - loss: 1.1338 - acc: 0.5728 - val_loss: 1.1545 - val_acc: 0.5676\n",
            "Epoch 9/20\n",
            "22967/22967 [==============================] - 3s 123us/step - loss: 1.0753 - acc: 0.5939 - val_loss: 1.1170 - val_acc: 0.5850\n",
            "Epoch 10/20\n",
            "22967/22967 [==============================] - 3s 124us/step - loss: 1.0164 - acc: 0.6204 - val_loss: 1.1108 - val_acc: 0.5812\n",
            "Epoch 11/20\n",
            "22967/22967 [==============================] - 3s 125us/step - loss: 0.9416 - acc: 0.6508 - val_loss: 1.1212 - val_acc: 0.5864\n",
            "Epoch 12/20\n",
            "22967/22967 [==============================] - 3s 126us/step - loss: 0.8684 - acc: 0.6823 - val_loss: 1.1292 - val_acc: 0.5883\n",
            "Epoch 13/20\n",
            "22967/22967 [==============================] - 3s 126us/step - loss: 0.8001 - acc: 0.7075 - val_loss: 1.1395 - val_acc: 0.5873\n",
            "Epoch 14/20\n",
            "22967/22967 [==============================] - 3s 125us/step - loss: 0.7239 - acc: 0.7373 - val_loss: 1.1869 - val_acc: 0.5862\n",
            "Epoch 15/20\n",
            "22967/22967 [==============================] - 3s 123us/step - loss: 0.6606 - acc: 0.7563 - val_loss: 1.1920 - val_acc: 0.5942\n",
            "Epoch 16/20\n",
            "22967/22967 [==============================] - 3s 123us/step - loss: 0.5837 - acc: 0.7877 - val_loss: 1.2505 - val_acc: 0.5895\n",
            "Epoch 17/20\n",
            "22967/22967 [==============================] - 3s 123us/step - loss: 0.5454 - acc: 0.8014 - val_loss: 1.2789 - val_acc: 0.5914\n",
            "Epoch 18/20\n",
            "22967/22967 [==============================] - 3s 122us/step - loss: 0.4920 - acc: 0.8221 - val_loss: 1.3538 - val_acc: 0.5951\n",
            "Epoch 19/20\n",
            "22967/22967 [==============================] - 3s 123us/step - loss: 0.4251 - acc: 0.8460 - val_loss: 1.3778 - val_acc: 0.5953\n",
            "Epoch 20/20\n",
            "22967/22967 [==============================] - 3s 122us/step - loss: 0.4022 - acc: 0.8561 - val_loss: 1.4036 - val_acc: 0.5895\n",
            "Saved model to disk\n",
            "Total Runtime To Train Model =  72.37263011932373\n",
            "TOtal Runtime to Train Full Model =  73.89453458786011\n"
          ],
          "name": "stdout"
        }
      ]
    },
    {
      "metadata": {
        "id": "5SIzv0mWYQnf",
        "colab_type": "text"
      },
      "cell_type": "markdown",
      "source": [
        "##Test the Dataset"
      ]
    },
    {
      "metadata": {
        "id": "E0OhxbLwYdCj",
        "colab_type": "text"
      },
      "cell_type": "markdown",
      "source": [
        "###Import Necessary Libraries"
      ]
    },
    {
      "metadata": {
        "id": "HXUYU_9SYhma",
        "colab_type": "code",
        "colab": {}
      },
      "cell_type": "code",
      "source": [
        "import numpy as np\n",
        "import matplotlib.pyplot as plt\n",
        "import keras\n",
        "import time\n",
        "from keras.models import model_from_json"
      ],
      "execution_count": 0,
      "outputs": []
    },
    {
      "metadata": {
        "id": "o7KOQV0JQ_3_",
        "colab_type": "code",
        "colab": {
          "base_uri": "https://localhost:8080/",
          "height": 101
        },
        "outputId": "112c82ce-fbbe-459d-e486-8c6c24a05de3"
      },
      "cell_type": "code",
      "source": [
        "start = time.time()\n",
        "num_classes = 7\n",
        "with tf.device('/GPU:0'):\n",
        "  with open(\"fer2013.csv\") as f:\n",
        "      content = f.readlines()\n",
        "  lines = np.array(content)\n",
        "  num_of_instances = lines.size\n",
        "\n",
        "  x_test, y_test = [], []\n",
        "\n",
        "  for i in range(1, num_of_instances):\n",
        "      emotion, img, usage = lines[i].split(\",\")\n",
        "      val = img.split(\" \")\n",
        "      pixels = np.array(val, 'float32')\n",
        "      emotion = keras.utils.to_categorical(emotion, num_classes)\n",
        "      if 'PublicTest' in usage:\n",
        "          y_test.append(emotion)\n",
        "          x_test.append(pixels)\n",
        "\n",
        "  x_test = np.array(x_test, 'float32')\n",
        "  y_test = np.array(y_test, 'float32')\n",
        "  x_test /= 255\n",
        "  x_test = x_test.reshape(x_test.shape[0], 48, 48, 1)\n",
        "  x_test = x_test.astype('float32')\n",
        "  print(x_test.shape[0], 'test samples')\n",
        "\n",
        "  json_file = open('model.json', 'r')\n",
        "  loaded_model_json = json_file.read()\n",
        "  json_file.close()\n",
        "  loaded_model = model_from_json(loaded_model_json)\n",
        "  loaded_model.load_weights(\"model.h5\")\n",
        "  print(\"Loaded model from disk\")\n",
        "  loaded_model.compile(loss='categorical_crossentropy', optimizer=keras.optimizers.Adam(), metrics=['accuracy'])\n",
        "\n",
        "\n",
        "def emotion_analysis(emotions):\n",
        "    objects = ('angry', 'disgust', 'fear', 'happy', 'sad', 'surprise', 'neutral')\n",
        "    y_pos = np.arange(len(objects))\n",
        "    plt.bar(y_pos, emotions, align='center', alpha=0.5)\n",
        "    plt.xticks(y_pos, objects)\n",
        "    plt.ylabel('percentage')\n",
        "    plt.title('emotion')\n",
        "    plt.show()\n",
        "\n",
        "evaluation = loaded_model.evaluate(x_test, y_test, batch_size=256, verbose=1)\n",
        "end = time.time()\n",
        "print('Summary: Loss over the test data set: %.2f, Accuracy: %.2f' % (evaluation[0], evaluation[1]))\n",
        "print(\"Total Time in Testing Model: \", end-start)"
      ],
      "execution_count": 35,
      "outputs": [
        {
          "output_type": "stream",
          "text": [
            "3589 test samples\n",
            "Loaded model from disk\n",
            "3589/3589 [==============================] - 1s 219us/step\n",
            "Summary: Loss over the test data set: 1.45, Accuracy: 0.58\n",
            "Total Time in Testing Model:  16.23685884475708\n"
          ],
          "name": "stdout"
        }
      ]
    }
  ]
}