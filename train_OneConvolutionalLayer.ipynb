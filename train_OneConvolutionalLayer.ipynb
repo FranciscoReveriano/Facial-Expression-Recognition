{
  "nbformat": 4,
  "nbformat_minor": 0,
  "metadata": {
    "colab": {
      "name": "train_OneConvolutionalLayer.ipynb",
      "version": "0.3.2",
      "provenance": [],
      "collapsed_sections": [],
      "toc_visible": true,
      "include_colab_link": true
    },
    "kernelspec": {
      "name": "python3",
      "display_name": "Python 3"
    },
    "accelerator": "GPU"
  },
  "cells": [
    {
      "cell_type": "markdown",
      "metadata": {
        "id": "view-in-github",
        "colab_type": "text"
      },
      "source": [
        "<a href=\"https://colab.research.google.com/github/FranciscoReveriano/Facial-Expression-Recognition/blob/master/train_OneConvolutionalLayer.ipynb\" target=\"_parent\"><img src=\"https://colab.research.google.com/assets/colab-badge.svg\" alt=\"Open In Colab\"/></a>"
      ]
    },
    {
      "metadata": {
        "id": "K3dpKNWbTejk",
        "colab_type": "text"
      },
      "cell_type": "markdown",
      "source": [
        "# Original Model"
      ]
    },
    {
      "metadata": {
        "id": "RaUenXFMUAPB",
        "colab_type": "text"
      },
      "cell_type": "markdown",
      "source": [
        "##Train The Dataset"
      ]
    },
    {
      "metadata": {
        "id": "1U1nFtUcTluL",
        "colab_type": "text"
      },
      "cell_type": "markdown",
      "source": [
        "### Import Necessary Libaries"
      ]
    },
    {
      "metadata": {
        "id": "SOUiEvwPT07C",
        "colab_type": "code",
        "colab": {}
      },
      "cell_type": "code",
      "source": [
        "import tensorflow as tf\n",
        "import numpy as np\n",
        "import matplotlib.pyplot as plt\n",
        "import time \n",
        "\n",
        "import keras\n",
        "from keras.models import Sequential\n",
        "from keras.layers import Conv2D, MaxPooling2D, AveragePooling2D\n",
        "from keras.layers.core import Dense, Dropout, Flatten, Activation"
      ],
      "execution_count": 0,
      "outputs": []
    },
    {
      "metadata": {
        "id": "dBEOBGT6Ttvk",
        "colab_type": "text"
      },
      "cell_type": "markdown",
      "source": [
        "###Check for GPU"
      ]
    },
    {
      "metadata": {
        "id": "c4YAJd50UEvv",
        "colab_type": "code",
        "outputId": "92a4dbc8-6851-4fc1-9950-6834d37e1f38",
        "colab": {
          "base_uri": "https://localhost:8080/",
          "height": 34
        }
      },
      "cell_type": "code",
      "source": [
        "device_name = tf.test.gpu_device_name()\n",
        "if device_name != '/device:GPU:0':\n",
        "  raise SystemError('GPU device not found')\n",
        "print('Found GPU at: {}'.format(device_name))\n",
        "\n",
        "config = tf.ConfigProto()\n",
        "sess = tf.Session(config=config)\n",
        "keras.backend.set_session(sess)"
      ],
      "execution_count": 28,
      "outputs": [
        {
          "output_type": "stream",
          "text": [
            "Found GPU at: /device:GPU:0\n"
          ],
          "name": "stdout"
        }
      ]
    },
    {
      "metadata": {
        "id": "80EtH_BmU4_N",
        "colab_type": "text"
      },
      "cell_type": "markdown",
      "source": [
        "### Select Settings"
      ]
    },
    {
      "metadata": {
        "id": "VNuX3XDlVBSz",
        "colab_type": "code",
        "colab": {}
      },
      "cell_type": "code",
      "source": [
        "num_classes = 7\n",
        "batch_size = 256\n",
        "epochs = 50\n",
        "VERBOSE = 1\n",
        "VALIDATION_SPLIT = 0.2"
      ],
      "execution_count": 0,
      "outputs": []
    },
    {
      "metadata": {
        "id": "kQL_8KQKVEiz",
        "colab_type": "text"
      },
      "cell_type": "markdown",
      "source": [
        "### Process Images"
      ]
    },
    {
      "metadata": {
        "id": "J0GrNNwZVNjW",
        "colab_type": "code",
        "outputId": "f124980f-4604-41e5-f476-e305e98bd5d0",
        "colab": {
          "base_uri": "https://localhost:8080/",
          "height": 67
        }
      },
      "cell_type": "code",
      "source": [
        "start = time.time() \n",
        "with tf.device('/GPU:0'):\n",
        "  with open(\"fer2013.csv\") as f:\n",
        "      content = f.readlines()\n",
        "  lines = np.array(content)\n",
        "  num_of_instances = lines.size\n",
        "end = time.time()\n",
        "print(\"Number of Images: \", num_of_instances)\n",
        "print(\"Pixel number of each image: \", len(lines[1].split(\",\")[1].split(\" \")))\n",
        "print(\"Time to prepare images = \", end-start)"
      ],
      "execution_count": 30,
      "outputs": [
        {
          "output_type": "stream",
          "text": [
            "Number of Images:  35888\n",
            "Pixel number of each image:  2304\n",
            "Time to prepare images =  1.880547285079956\n"
          ],
          "name": "stdout"
        }
      ]
    },
    {
      "metadata": {
        "id": "vMFyGiH0WkNG",
        "colab_type": "text"
      },
      "cell_type": "markdown",
      "source": [
        "### Train the Model"
      ]
    },
    {
      "metadata": {
        "id": "7MAVCsHQHmx4",
        "colab_type": "code",
        "outputId": "72e2066d-ad3a-406d-cf15-bf627cbda29b",
        "colab": {
          "base_uri": "https://localhost:8080/",
          "height": 1781
        }
      },
      "cell_type": "code",
      "source": [
        "start = time.time()\n",
        "with tf.device('/GPU:0'):\n",
        "  x_train, y_train = [], []\n",
        "\n",
        "  for i in range(1, num_of_instances):\n",
        "      emotion, img, usage = lines[i].split(\",\")\n",
        "      val = img.split(\" \")\n",
        "      pixels = np.array(val, 'float32')\n",
        "      emotion = keras.utils.to_categorical(emotion, num_classes)\n",
        "      if 'Training' in usage:\n",
        "          y_train.append(emotion)\n",
        "          x_train.append(pixels)\n",
        "\n",
        "  x_train = np.array(x_train, 'float32')\n",
        "  y_train = np.array(y_train, 'float32')\n",
        "  x_train /= 255\n",
        "  x_train = x_train.reshape(x_train.shape[0], 48, 48, 1)\n",
        "  x_train = x_train.astype('float32')\n",
        "  print(x_train.shape[0], 'train samples')\n",
        "\n",
        "  model = Sequential()\n",
        "\n",
        "\n",
        "  #One Convolutional Layer\n",
        "  model.add(Conv2D(32, (3, 3),  activation='relu', padding='same', input_shape=(48, 48, 1)))\n",
        "  model.add(MaxPooling2D(pool_size=(2, 2)))\n",
        "  model.add(Dropout(0.25))\n",
        "  model.add(Flatten())\n",
        "  model.add(Dense(512, activation='relu'))\n",
        "  model.add(Dropout(0.5))\n",
        "  model.add(Dense(num_classes, activation='softmax'))\n",
        "\n",
        "  model.compile(loss='categorical_crossentropy', optimizer=keras.optimizers.Adam(), metrics=['accuracy'])\n",
        "  # model.summary()\n",
        "  history = model.fit(x_train, y_train, batch_size=batch_size, epochs=epochs, verbose=VERBOSE, validation_split=VALIDATION_SPLIT)\n",
        "\n",
        "  model_json = model.to_json()\n",
        "  with open(\"model.json\", \"w\") as json_file:\n",
        "      json_file.write(model_json)\n",
        "  model.save_weights(\"model.h5\")\n",
        "  print(\"Saved model to disk\")\n",
        "\n",
        "\n",
        "end = time.time()\n",
        "print(\"Saved model to disk\")\n",
        "print(\"Total Runtime To Train Model = \", end-start)"
      ],
      "execution_count": 31,
      "outputs": [
        {
          "output_type": "stream",
          "text": [
            "28709 train samples\n",
            "Train on 22967 samples, validate on 5742 samples\n",
            "Epoch 1/50\n",
            "22967/22967 [==============================] - 3s 117us/step - loss: 1.9780 - acc: 0.2347 - val_loss: 1.7562 - val_acc: 0.2755\n",
            "Epoch 2/50\n",
            "22967/22967 [==============================] - 2s 91us/step - loss: 1.7277 - acc: 0.3053 - val_loss: 1.6571 - val_acc: 0.3450\n",
            "Epoch 3/50\n",
            "22967/22967 [==============================] - 2s 91us/step - loss: 1.6505 - acc: 0.3552 - val_loss: 1.5963 - val_acc: 0.3990\n",
            "Epoch 4/50\n",
            "22967/22967 [==============================] - 2s 91us/step - loss: 1.5980 - acc: 0.3795 - val_loss: 1.5472 - val_acc: 0.4176\n",
            "Epoch 5/50\n",
            "22967/22967 [==============================] - 2s 91us/step - loss: 1.5525 - acc: 0.3991 - val_loss: 1.5256 - val_acc: 0.4289\n",
            "Epoch 6/50\n",
            "22967/22967 [==============================] - 2s 92us/step - loss: 1.5212 - acc: 0.4183 - val_loss: 1.4935 - val_acc: 0.4289\n",
            "Epoch 7/50\n",
            "22967/22967 [==============================] - 2s 92us/step - loss: 1.4955 - acc: 0.4273 - val_loss: 1.4818 - val_acc: 0.4331\n",
            "Epoch 8/50\n",
            "22967/22967 [==============================] - 2s 91us/step - loss: 1.4618 - acc: 0.4425 - val_loss: 1.4489 - val_acc: 0.4525\n",
            "Epoch 9/50\n",
            "22967/22967 [==============================] - 2s 91us/step - loss: 1.4301 - acc: 0.4564 - val_loss: 1.4289 - val_acc: 0.4587\n",
            "Epoch 10/50\n",
            "22967/22967 [==============================] - 2s 92us/step - loss: 1.4046 - acc: 0.4651 - val_loss: 1.4120 - val_acc: 0.4629\n",
            "Epoch 11/50\n",
            "22967/22967 [==============================] - 2s 93us/step - loss: 1.3785 - acc: 0.4696 - val_loss: 1.4006 - val_acc: 0.4732\n",
            "Epoch 12/50\n",
            "22967/22967 [==============================] - 2s 94us/step - loss: 1.3533 - acc: 0.4849 - val_loss: 1.3901 - val_acc: 0.4718\n",
            "Epoch 13/50\n",
            "22967/22967 [==============================] - 2s 94us/step - loss: 1.3241 - acc: 0.4932 - val_loss: 1.3769 - val_acc: 0.4777\n",
            "Epoch 14/50\n",
            "22967/22967 [==============================] - 2s 94us/step - loss: 1.3045 - acc: 0.5045 - val_loss: 1.3751 - val_acc: 0.4822\n",
            "Epoch 15/50\n",
            "22967/22967 [==============================] - 2s 93us/step - loss: 1.2803 - acc: 0.5152 - val_loss: 1.3624 - val_acc: 0.4845\n",
            "Epoch 16/50\n",
            "22967/22967 [==============================] - 2s 92us/step - loss: 1.2664 - acc: 0.5169 - val_loss: 1.3571 - val_acc: 0.4932\n",
            "Epoch 17/50\n",
            "22967/22967 [==============================] - 2s 91us/step - loss: 1.2344 - acc: 0.5318 - val_loss: 1.3511 - val_acc: 0.4904\n",
            "Epoch 18/50\n",
            "22967/22967 [==============================] - 2s 91us/step - loss: 1.2087 - acc: 0.5433 - val_loss: 1.3552 - val_acc: 0.4918\n",
            "Epoch 19/50\n",
            "22967/22967 [==============================] - 2s 92us/step - loss: 1.1936 - acc: 0.5447 - val_loss: 1.3447 - val_acc: 0.5003\n",
            "Epoch 20/50\n",
            "22967/22967 [==============================] - 2s 91us/step - loss: 1.1795 - acc: 0.5534 - val_loss: 1.3540 - val_acc: 0.4939\n",
            "Epoch 21/50\n",
            "22967/22967 [==============================] - 2s 92us/step - loss: 1.1489 - acc: 0.5591 - val_loss: 1.3449 - val_acc: 0.4930\n",
            "Epoch 22/50\n",
            "22967/22967 [==============================] - 2s 91us/step - loss: 1.1340 - acc: 0.5719 - val_loss: 1.3508 - val_acc: 0.4949\n",
            "Epoch 23/50\n",
            "22967/22967 [==============================] - 2s 91us/step - loss: 1.1115 - acc: 0.5763 - val_loss: 1.3543 - val_acc: 0.4986\n",
            "Epoch 24/50\n",
            "22967/22967 [==============================] - 2s 91us/step - loss: 1.0907 - acc: 0.5858 - val_loss: 1.3438 - val_acc: 0.4955\n",
            "Epoch 25/50\n",
            "22967/22967 [==============================] - 2s 91us/step - loss: 1.0664 - acc: 0.5969 - val_loss: 1.3468 - val_acc: 0.5033\n",
            "Epoch 26/50\n",
            "22967/22967 [==============================] - 2s 91us/step - loss: 1.0605 - acc: 0.5968 - val_loss: 1.3444 - val_acc: 0.5005\n",
            "Epoch 27/50\n",
            "22967/22967 [==============================] - 2s 91us/step - loss: 1.0420 - acc: 0.6033 - val_loss: 1.3730 - val_acc: 0.5009\n",
            "Epoch 28/50\n",
            "22967/22967 [==============================] - 2s 91us/step - loss: 1.0214 - acc: 0.6151 - val_loss: 1.3541 - val_acc: 0.5082\n",
            "Epoch 29/50\n",
            "22967/22967 [==============================] - 2s 91us/step - loss: 1.0043 - acc: 0.6179 - val_loss: 1.3722 - val_acc: 0.5045\n",
            "Epoch 30/50\n",
            "22967/22967 [==============================] - 2s 91us/step - loss: 0.9771 - acc: 0.6242 - val_loss: 1.3815 - val_acc: 0.4997\n",
            "Epoch 31/50\n",
            "22967/22967 [==============================] - 2s 92us/step - loss: 0.9633 - acc: 0.6320 - val_loss: 1.3669 - val_acc: 0.5075\n",
            "Epoch 32/50\n",
            "22967/22967 [==============================] - 2s 91us/step - loss: 0.9449 - acc: 0.6407 - val_loss: 1.3776 - val_acc: 0.5091\n",
            "Epoch 33/50\n",
            "22967/22967 [==============================] - 2s 91us/step - loss: 0.9330 - acc: 0.6417 - val_loss: 1.3863 - val_acc: 0.5073\n",
            "Epoch 34/50\n",
            "22967/22967 [==============================] - 2s 91us/step - loss: 0.9187 - acc: 0.6533 - val_loss: 1.3665 - val_acc: 0.5059\n",
            "Epoch 35/50\n",
            "22967/22967 [==============================] - 2s 91us/step - loss: 0.8915 - acc: 0.6602 - val_loss: 1.3888 - val_acc: 0.5061\n",
            "Epoch 36/50\n",
            "22967/22967 [==============================] - 2s 91us/step - loss: 0.8800 - acc: 0.6673 - val_loss: 1.4070 - val_acc: 0.5120\n",
            "Epoch 37/50\n",
            "22967/22967 [==============================] - 2s 91us/step - loss: 0.8675 - acc: 0.6708 - val_loss: 1.4272 - val_acc: 0.5103\n",
            "Epoch 38/50\n",
            "22967/22967 [==============================] - 2s 94us/step - loss: 0.8530 - acc: 0.6768 - val_loss: 1.4026 - val_acc: 0.5111\n",
            "Epoch 39/50\n",
            "22967/22967 [==============================] - 2s 94us/step - loss: 0.8355 - acc: 0.6795 - val_loss: 1.4169 - val_acc: 0.5155\n",
            "Epoch 40/50\n",
            "22967/22967 [==============================] - 2s 93us/step - loss: 0.8200 - acc: 0.6893 - val_loss: 1.4362 - val_acc: 0.5091\n",
            "Epoch 41/50\n",
            "22967/22967 [==============================] - 2s 93us/step - loss: 0.8059 - acc: 0.6913 - val_loss: 1.4115 - val_acc: 0.5124\n",
            "Epoch 42/50\n",
            "22967/22967 [==============================] - 2s 94us/step - loss: 0.7848 - acc: 0.7032 - val_loss: 1.4528 - val_acc: 0.5125\n",
            "Epoch 43/50\n",
            "22967/22967 [==============================] - 2s 91us/step - loss: 0.7678 - acc: 0.7090 - val_loss: 1.4482 - val_acc: 0.5111\n",
            "Epoch 44/50\n",
            "22967/22967 [==============================] - 2s 90us/step - loss: 0.7615 - acc: 0.7077 - val_loss: 1.4672 - val_acc: 0.5075\n",
            "Epoch 45/50\n",
            "22967/22967 [==============================] - 2s 91us/step - loss: 0.7475 - acc: 0.7150 - val_loss: 1.4735 - val_acc: 0.5110\n",
            "Epoch 46/50\n",
            "22967/22967 [==============================] - 2s 91us/step - loss: 0.7313 - acc: 0.7246 - val_loss: 1.5231 - val_acc: 0.5131\n",
            "Epoch 47/50\n",
            "22967/22967 [==============================] - 2s 91us/step - loss: 0.7232 - acc: 0.7225 - val_loss: 1.5118 - val_acc: 0.5110\n",
            "Epoch 48/50\n",
            "22967/22967 [==============================] - 2s 91us/step - loss: 0.7107 - acc: 0.7243 - val_loss: 1.5132 - val_acc: 0.5171\n",
            "Epoch 49/50\n",
            "22967/22967 [==============================] - 2s 93us/step - loss: 0.6918 - acc: 0.7314 - val_loss: 1.5248 - val_acc: 0.5101\n",
            "Epoch 50/50\n",
            "22967/22967 [==============================] - 2s 94us/step - loss: 0.6879 - acc: 0.7358 - val_loss: 1.5377 - val_acc: 0.5091\n",
            "Saved model to disk\n",
            "Saved model to disk\n",
            "Total Runtime To Train Model =  120.04632353782654\n"
          ],
          "name": "stdout"
        }
      ]
    },
    {
      "metadata": {
        "id": "5SIzv0mWYQnf",
        "colab_type": "text"
      },
      "cell_type": "markdown",
      "source": [
        "##Test the Dataset"
      ]
    },
    {
      "metadata": {
        "id": "E0OhxbLwYdCj",
        "colab_type": "text"
      },
      "cell_type": "markdown",
      "source": [
        "###Import Necessary Libraries"
      ]
    },
    {
      "metadata": {
        "id": "HXUYU_9SYhma",
        "colab_type": "code",
        "colab": {}
      },
      "cell_type": "code",
      "source": [
        "import numpy as np\n",
        "import matplotlib.pyplot as plt\n",
        "import keras\n",
        "import time\n",
        "from keras.models import model_from_json"
      ],
      "execution_count": 0,
      "outputs": []
    },
    {
      "metadata": {
        "id": "o7KOQV0JQ_3_",
        "colab_type": "code",
        "outputId": "a0f400a5-bce3-4fcb-933d-f76bea1a462a",
        "colab": {
          "base_uri": "https://localhost:8080/",
          "height": 101
        }
      },
      "cell_type": "code",
      "source": [
        "start = time.time()\n",
        "num_classes = 7\n",
        "with tf.device('/GPU:0'):\n",
        "  with open(\"fer2013.csv\") as f:\n",
        "      content = f.readlines()\n",
        "  lines = np.array(content)\n",
        "  num_of_instances = lines.size\n",
        "\n",
        "  x_test, y_test = [], []\n",
        "\n",
        "  for i in range(1, num_of_instances):\n",
        "      emotion, img, usage = lines[i].split(\",\")\n",
        "      val = img.split(\" \")\n",
        "      pixels = np.array(val, 'float32')\n",
        "      emotion = keras.utils.to_categorical(emotion, num_classes)\n",
        "      if 'PublicTest' in usage:\n",
        "          y_test.append(emotion)\n",
        "          x_test.append(pixels)\n",
        "\n",
        "  x_test = np.array(x_test, 'float32')\n",
        "  y_test = np.array(y_test, 'float32')\n",
        "  x_test /= 255\n",
        "  x_test = x_test.reshape(x_test.shape[0], 48, 48, 1)\n",
        "  x_test = x_test.astype('float32')\n",
        "  print(x_test.shape[0], 'test samples')\n",
        "\n",
        "  json_file = open('model.json', 'r')\n",
        "  loaded_model_json = json_file.read()\n",
        "  json_file.close()\n",
        "  loaded_model = model_from_json(loaded_model_json)\n",
        "  loaded_model.load_weights(\"model.h5\")\n",
        "  print(\"Loaded model from disk\")\n",
        "  loaded_model.compile(loss='categorical_crossentropy', optimizer=keras.optimizers.Adam(), metrics=['accuracy'])\n",
        "\n",
        "\n",
        "def emotion_analysis(emotions):\n",
        "    objects = ('angry', 'disgust', 'fear', 'happy', 'sad', 'surprise', 'neutral')\n",
        "    y_pos = np.arange(len(objects))\n",
        "    plt.bar(y_pos, emotions, align='center', alpha=0.5)\n",
        "    plt.xticks(y_pos, objects)\n",
        "    plt.ylabel('percentage')\n",
        "    plt.title('emotion')\n",
        "    plt.show()\n",
        "\n",
        "evaluation = loaded_model.evaluate(x_test, y_test, batch_size=256, verbose=1)\n",
        "end = time.time()\n",
        "print('Summary: Loss over the test data set: %.2f, Accuracy: %.2f' % (evaluation[0], evaluation[1]))\n",
        "print(\"Total Time in Testing Model: \", end-start)"
      ],
      "execution_count": 33,
      "outputs": [
        {
          "output_type": "stream",
          "text": [
            "3589 test samples\n",
            "Loaded model from disk\n",
            "3589/3589 [==============================] - 0s 87us/step\n",
            "Summary: Loss over the test data set: 1.59, Accuracy: 0.49\n",
            "Total Time in Testing Model:  15.858744144439697\n"
          ],
          "name": "stdout"
        }
      ]
    }
  ]
}