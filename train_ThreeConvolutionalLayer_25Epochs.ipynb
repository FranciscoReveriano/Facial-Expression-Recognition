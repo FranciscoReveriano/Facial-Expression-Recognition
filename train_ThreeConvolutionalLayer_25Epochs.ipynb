{
  "nbformat": 4,
  "nbformat_minor": 0,
  "metadata": {
    "colab": {
      "name": "train_ThreeConvolutionalLayer.ipynb",
      "version": "0.3.2",
      "provenance": [],
      "collapsed_sections": [],
      "toc_visible": true,
      "include_colab_link": true
    },
    "kernelspec": {
      "name": "python3",
      "display_name": "Python 3"
    },
    "accelerator": "GPU"
  },
  "cells": [
    {
      "cell_type": "markdown",
      "metadata": {
        "id": "view-in-github",
        "colab_type": "text"
      },
      "source": [
        "<a href=\"https://colab.research.google.com/github/FranciscoReveriano/Facial-Expression-Recognition/blob/Version-3/train_ThreeConvolutionalLayer_25Epochs.ipynb\" target=\"_parent\"><img src=\"https://colab.research.google.com/assets/colab-badge.svg\" alt=\"Open In Colab\"/></a>"
      ]
    },
    {
      "metadata": {
        "id": "K3dpKNWbTejk",
        "colab_type": "text"
      },
      "cell_type": "markdown",
      "source": [
        "# Original Model"
      ]
    },
    {
      "metadata": {
        "id": "RaUenXFMUAPB",
        "colab_type": "text"
      },
      "cell_type": "markdown",
      "source": [
        "##Train The Dataset"
      ]
    },
    {
      "metadata": {
        "id": "1U1nFtUcTluL",
        "colab_type": "text"
      },
      "cell_type": "markdown",
      "source": [
        "### Import Necessary Libaries"
      ]
    },
    {
      "metadata": {
        "id": "SOUiEvwPT07C",
        "colab_type": "code",
        "colab": {}
      },
      "cell_type": "code",
      "source": [
        "import tensorflow as tf\n",
        "import numpy as np\n",
        "import matplotlib.pyplot as plt\n",
        "import time \n",
        "\n",
        "import keras\n",
        "from keras.models import Sequential\n",
        "from keras.layers import Conv2D, MaxPooling2D, AveragePooling2D\n",
        "from keras.layers.core import Dense, Dropout, Flatten, Activation"
      ],
      "execution_count": 0,
      "outputs": []
    },
    {
      "metadata": {
        "id": "dBEOBGT6Ttvk",
        "colab_type": "text"
      },
      "cell_type": "markdown",
      "source": [
        "###Check for GPU"
      ]
    },
    {
      "metadata": {
        "id": "c4YAJd50UEvv",
        "colab_type": "code",
        "outputId": "78e20b82-6491-4e21-cea1-4ab6d1582638",
        "colab": {
          "base_uri": "https://localhost:8080/",
          "height": 34
        }
      },
      "cell_type": "code",
      "source": [
        "device_name = tf.test.gpu_device_name()\n",
        "if device_name != '/device:GPU:0':\n",
        "  raise SystemError('GPU device not found')\n",
        "print('Found GPU at: {}'.format(device_name))\n",
        "\n",
        "config = tf.ConfigProto()\n",
        "sess = tf.Session(config=config)\n",
        "keras.backend.set_session(sess)"
      ],
      "execution_count": 55,
      "outputs": [
        {
          "output_type": "stream",
          "text": [
            "Found GPU at: /device:GPU:0\n"
          ],
          "name": "stdout"
        }
      ]
    },
    {
      "metadata": {
        "id": "80EtH_BmU4_N",
        "colab_type": "text"
      },
      "cell_type": "markdown",
      "source": [
        "### Select Settings"
      ]
    },
    {
      "metadata": {
        "id": "VNuX3XDlVBSz",
        "colab_type": "code",
        "colab": {}
      },
      "cell_type": "code",
      "source": [
        "num_classes = 7\n",
        "batch_size = 256\n",
        "epochs = 25\n",
        "VERBOSE = 1\n",
        "VALIDATION_SPLIT = 0.2"
      ],
      "execution_count": 0,
      "outputs": []
    },
    {
      "metadata": {
        "id": "kQL_8KQKVEiz",
        "colab_type": "text"
      },
      "cell_type": "markdown",
      "source": [
        "### Process Images"
      ]
    },
    {
      "metadata": {
        "id": "J0GrNNwZVNjW",
        "colab_type": "code",
        "outputId": "4120d30e-f939-43da-aa6a-2075ad2eb842",
        "colab": {
          "base_uri": "https://localhost:8080/",
          "height": 67
        }
      },
      "cell_type": "code",
      "source": [
        "startTime = time.time()\n",
        "start = time.time() \n",
        "with tf.device('/GPU:0'):\n",
        "  with open(\"fer2013.csv\") as f:\n",
        "      content = f.readlines()\n",
        "  lines = np.array(content)\n",
        "  num_of_instances = lines.size\n",
        "end = time.time()\n",
        "print(\"Number of Images: \", num_of_instances)\n",
        "print(\"Pixel number of each image: \", len(lines[1].split(\",\")[1].split(\" \")))\n",
        "print(\"Time to prepare images = \", end-start)"
      ],
      "execution_count": 57,
      "outputs": [
        {
          "output_type": "stream",
          "text": [
            "Number of Images:  35888\n",
            "Pixel number of each image:  2304\n",
            "Time to prepare images =  1.5404629707336426\n"
          ],
          "name": "stdout"
        }
      ]
    },
    {
      "metadata": {
        "id": "vMFyGiH0WkNG",
        "colab_type": "text"
      },
      "cell_type": "markdown",
      "source": [
        "### Train the Model"
      ]
    },
    {
      "metadata": {
        "id": "7MAVCsHQHmx4",
        "colab_type": "code",
        "outputId": "3bdee150-d781-423b-9ca5-514ece17bbd1",
        "colab": {
          "base_uri": "https://localhost:8080/",
          "height": 941
        }
      },
      "cell_type": "code",
      "source": [
        "start = time.time()\n",
        "with tf.device('/GPU:0'):\n",
        "  x_train, y_train = [], []\n",
        "\n",
        "  for i in range(1, num_of_instances):\n",
        "      emotion, img, usage = lines[i].split(\",\")\n",
        "      val = img.split(\" \")\n",
        "      pixels = np.array(val, 'float32')\n",
        "      emotion = keras.utils.to_categorical(emotion, num_classes)\n",
        "      if 'Training' in usage:\n",
        "          y_train.append(emotion)\n",
        "          x_train.append(pixels)\n",
        "\n",
        "  x_train = np.array(x_train, 'float32')\n",
        "  y_train = np.array(y_train, 'float32')\n",
        "  x_train /= 255\n",
        "  x_train = x_train.reshape(x_train.shape[0], 48, 48, 1)\n",
        "  x_train = x_train.astype('float32')\n",
        "  print(x_train.shape[0], 'train samples')\n",
        "\n",
        "  model = Sequential()\n",
        "\n",
        "  # Three Convolutional Layers\n",
        "  model.add(Conv2D(32, (3, 3),  activation='relu', padding='same', input_shape=(48, 48, 1)))\n",
        "  model.add(MaxPooling2D(pool_size=(2, 2)))\n",
        "  model.add(Dropout(0.15))\n",
        "  model.add(Conv2D(64, (3, 3), activation='relu', padding='same'))\n",
        "  model.add(MaxPooling2D(pool_size=(2, 2)))\n",
        "  model.add(Dropout(0.15))\n",
        "  model.add(Conv2D(128, (3, 3), activation='relu', padding='same'))\n",
        "  model.add(MaxPooling2D(pool_size=(2, 2)))\n",
        "  model.add(Dropout(0.15))\n",
        "  model.add(Flatten())\n",
        "  model.add(Dense(1024, activation='relu'))\n",
        "  model.add(Dropout(0.3))\n",
        "  model.add(Dense(512, activation='relu'))\n",
        "  model.add(Dropout(0.3))\n",
        "\n",
        "  model.add(Dense(num_classes, activation='softmax'))\n",
        "  model.compile(loss='categorical_crossentropy', optimizer=keras.optimizers.Adam(), metrics=['accuracy'])\n",
        "  # model.summary()\n",
        "  history = model.fit(x_train, y_train, batch_size=batch_size, epochs=epochs, verbose=VERBOSE, validation_split=VALIDATION_SPLIT)\n",
        "\n",
        "  model_json = model.to_json()\n",
        "  with open(\"model.json\", \"w\") as json_file:\n",
        "      json_file.write(model_json)\n",
        "  model.save_weights(\"model.h5\")\n",
        "  print(\"Saved model to disk\")\n",
        "\n",
        "endTime= time.time()\n",
        "end = time.time()\n",
        "print(\"Total Runtime To Train Model = \", end-start)\n",
        "print(\"TOtal Runtime to Train Full Model = \", endTime - startTime)"
      ],
      "execution_count": 58,
      "outputs": [
        {
          "output_type": "stream",
          "text": [
            "28709 train samples\n",
            "Train on 22967 samples, validate on 5742 samples\n",
            "Epoch 1/25\n",
            "22967/22967 [==============================] - 4s 189us/step - loss: 1.8097 - acc: 0.2502 - val_loss: 1.7393 - val_acc: 0.2858\n",
            "Epoch 2/25\n",
            "22967/22967 [==============================] - 3s 121us/step - loss: 1.6580 - acc: 0.3385 - val_loss: 1.5438 - val_acc: 0.4152\n",
            "Epoch 3/25\n",
            "22967/22967 [==============================] - 3s 122us/step - loss: 1.5124 - acc: 0.4144 - val_loss: 1.3959 - val_acc: 0.4706\n",
            "Epoch 4/25\n",
            "22967/22967 [==============================] - 3s 123us/step - loss: 1.3970 - acc: 0.4620 - val_loss: 1.2936 - val_acc: 0.5124\n",
            "Epoch 5/25\n",
            "22967/22967 [==============================] - 3s 122us/step - loss: 1.3092 - acc: 0.4961 - val_loss: 1.2301 - val_acc: 0.5420\n",
            "Epoch 6/25\n",
            "22967/22967 [==============================] - 3s 123us/step - loss: 1.2325 - acc: 0.5302 - val_loss: 1.1886 - val_acc: 0.5528\n",
            "Epoch 7/25\n",
            "22967/22967 [==============================] - 3s 123us/step - loss: 1.1662 - acc: 0.5580 - val_loss: 1.1888 - val_acc: 0.5559\n",
            "Epoch 8/25\n",
            "22967/22967 [==============================] - 3s 123us/step - loss: 1.1023 - acc: 0.5857 - val_loss: 1.1520 - val_acc: 0.5721\n",
            "Epoch 9/25\n",
            "22967/22967 [==============================] - 3s 123us/step - loss: 1.0389 - acc: 0.6128 - val_loss: 1.1265 - val_acc: 0.5819\n",
            "Epoch 10/25\n",
            "22967/22967 [==============================] - 3s 124us/step - loss: 0.9727 - acc: 0.6351 - val_loss: 1.1154 - val_acc: 0.5902\n",
            "Epoch 11/25\n",
            "22967/22967 [==============================] - 3s 124us/step - loss: 0.8952 - acc: 0.6672 - val_loss: 1.1288 - val_acc: 0.5942\n",
            "Epoch 12/25\n",
            "22967/22967 [==============================] - 3s 123us/step - loss: 0.8213 - acc: 0.6995 - val_loss: 1.1428 - val_acc: 0.5982\n",
            "Epoch 13/25\n",
            "22967/22967 [==============================] - 3s 124us/step - loss: 0.7438 - acc: 0.7274 - val_loss: 1.1798 - val_acc: 0.5968\n",
            "Epoch 14/25\n",
            "22967/22967 [==============================] - 3s 123us/step - loss: 0.6744 - acc: 0.7516 - val_loss: 1.2199 - val_acc: 0.5958\n",
            "Epoch 15/25\n",
            "22967/22967 [==============================] - 3s 123us/step - loss: 0.6031 - acc: 0.7789 - val_loss: 1.2585 - val_acc: 0.5866\n",
            "Epoch 16/25\n",
            "22967/22967 [==============================] - 3s 124us/step - loss: 0.5510 - acc: 0.8006 - val_loss: 1.2914 - val_acc: 0.5916\n",
            "Epoch 17/25\n",
            "22967/22967 [==============================] - 3s 125us/step - loss: 0.4967 - acc: 0.8184 - val_loss: 1.3573 - val_acc: 0.5869\n",
            "Epoch 18/25\n",
            "22967/22967 [==============================] - 3s 125us/step - loss: 0.4417 - acc: 0.8423 - val_loss: 1.3907 - val_acc: 0.5927\n",
            "Epoch 19/25\n",
            "22967/22967 [==============================] - 3s 124us/step - loss: 0.3986 - acc: 0.8571 - val_loss: 1.4252 - val_acc: 0.5918\n",
            "Epoch 20/25\n",
            "22967/22967 [==============================] - 3s 123us/step - loss: 0.3601 - acc: 0.8708 - val_loss: 1.4944 - val_acc: 0.5930\n",
            "Epoch 21/25\n",
            "22967/22967 [==============================] - 3s 122us/step - loss: 0.3297 - acc: 0.8836 - val_loss: 1.4970 - val_acc: 0.5933\n",
            "Epoch 22/25\n",
            "22967/22967 [==============================] - 3s 122us/step - loss: 0.3150 - acc: 0.8902 - val_loss: 1.5202 - val_acc: 0.5944\n",
            "Epoch 23/25\n",
            "22967/22967 [==============================] - 3s 122us/step - loss: 0.2905 - acc: 0.8958 - val_loss: 1.5776 - val_acc: 0.6007\n",
            "Epoch 24/25\n",
            "22967/22967 [==============================] - 3s 122us/step - loss: 0.2522 - acc: 0.9108 - val_loss: 1.6379 - val_acc: 0.5951\n",
            "Epoch 25/25\n",
            "22967/22967 [==============================] - 3s 122us/step - loss: 0.2521 - acc: 0.9105 - val_loss: 1.6386 - val_acc: 0.5968\n",
            "Saved model to disk\n",
            "Total Runtime To Train Model =  87.41746091842651\n",
            "TOtal Runtime to Train Full Model =  89.008309841156\n"
          ],
          "name": "stdout"
        }
      ]
    },
    {
      "metadata": {
        "id": "5SIzv0mWYQnf",
        "colab_type": "text"
      },
      "cell_type": "markdown",
      "source": [
        "##Test the Dataset"
      ]
    },
    {
      "metadata": {
        "id": "E0OhxbLwYdCj",
        "colab_type": "text"
      },
      "cell_type": "markdown",
      "source": [
        "###Import Necessary Libraries"
      ]
    },
    {
      "metadata": {
        "id": "HXUYU_9SYhma",
        "colab_type": "code",
        "colab": {}
      },
      "cell_type": "code",
      "source": [
        "import numpy as np\n",
        "import matplotlib.pyplot as plt\n",
        "import keras\n",
        "import time\n",
        "from keras.models import model_from_json"
      ],
      "execution_count": 0,
      "outputs": []
    },
    {
      "metadata": {
        "id": "o7KOQV0JQ_3_",
        "colab_type": "code",
        "outputId": "2621bf08-576a-431f-8fc1-f45e0c8a77e4",
        "colab": {
          "base_uri": "https://localhost:8080/",
          "height": 101
        }
      },
      "cell_type": "code",
      "source": [
        "start = time.time()\n",
        "num_classes = 7\n",
        "with tf.device('/GPU:0'):\n",
        "  with open(\"fer2013.csv\") as f:\n",
        "      content = f.readlines()\n",
        "  lines = np.array(content)\n",
        "  num_of_instances = lines.size\n",
        "\n",
        "  x_test, y_test = [], []\n",
        "\n",
        "  for i in range(1, num_of_instances):\n",
        "      emotion, img, usage = lines[i].split(\",\")\n",
        "      val = img.split(\" \")\n",
        "      pixels = np.array(val, 'float32')\n",
        "      emotion = keras.utils.to_categorical(emotion, num_classes)\n",
        "      if 'PublicTest' in usage:\n",
        "          y_test.append(emotion)\n",
        "          x_test.append(pixels)\n",
        "\n",
        "  x_test = np.array(x_test, 'float32')\n",
        "  y_test = np.array(y_test, 'float32')\n",
        "  x_test /= 255\n",
        "  x_test = x_test.reshape(x_test.shape[0], 48, 48, 1)\n",
        "  x_test = x_test.astype('float32')\n",
        "  print(x_test.shape[0], 'test samples')\n",
        "\n",
        "  json_file = open('model.json', 'r')\n",
        "  loaded_model_json = json_file.read()\n",
        "  json_file.close()\n",
        "  loaded_model = model_from_json(loaded_model_json)\n",
        "  loaded_model.load_weights(\"model.h5\")\n",
        "  print(\"Loaded model from disk\")\n",
        "  loaded_model.compile(loss='categorical_crossentropy', optimizer=keras.optimizers.Adam(), metrics=['accuracy'])\n",
        "\n",
        "\n",
        "def emotion_analysis(emotions):\n",
        "    objects = ('angry', 'disgust', 'fear', 'happy', 'sad', 'surprise', 'neutral')\n",
        "    y_pos = np.arange(len(objects))\n",
        "    plt.bar(y_pos, emotions, align='center', alpha=0.5)\n",
        "    plt.xticks(y_pos, objects)\n",
        "    plt.ylabel('percentage')\n",
        "    plt.title('emotion')\n",
        "    plt.show()\n",
        "\n",
        "evaluation = loaded_model.evaluate(x_test, y_test, batch_size=256, verbose=1)\n",
        "end = time.time()\n",
        "print('Summary: Loss over the test data set: %.2f, Accuracy: %.2f' % (evaluation[0], evaluation[1]))\n",
        "print(\"Total Time in Testing Model: \", end-start)"
      ],
      "execution_count": 60,
      "outputs": [
        {
          "output_type": "stream",
          "text": [
            "3589 test samples\n",
            "Loaded model from disk\n",
            "3589/3589 [==============================] - 1s 313us/step\n",
            "Summary: Loss over the test data set: 1.70, Accuracy: 0.58\n",
            "Total Time in Testing Model:  16.881419897079468\n"
          ],
          "name": "stdout"
        }
      ]
    }
  ]
}