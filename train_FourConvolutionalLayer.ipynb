{
  "nbformat": 4,
  "nbformat_minor": 0,
  "metadata": {
    "colab": {
      "name": "train_FourConvolutionalLayer.ipynb",
      "version": "0.3.2",
      "provenance": [],
      "collapsed_sections": [],
      "toc_visible": true,
      "include_colab_link": true
    },
    "kernelspec": {
      "name": "python3",
      "display_name": "Python 3"
    },
    "accelerator": "GPU"
  },
  "cells": [
    {
      "cell_type": "markdown",
      "metadata": {
        "id": "view-in-github",
        "colab_type": "text"
      },
      "source": [
        "<a href=\"https://colab.research.google.com/github/FranciscoReveriano/Facial-Expression-Recognition/blob/master/train_FourConvolutionalLayer.ipynb\" target=\"_parent\"><img src=\"https://colab.research.google.com/assets/colab-badge.svg\" alt=\"Open In Colab\"/></a>"
      ]
    },
    {
      "metadata": {
        "id": "K3dpKNWbTejk",
        "colab_type": "text"
      },
      "cell_type": "markdown",
      "source": [
        "# Original Model"
      ]
    },
    {
      "metadata": {
        "id": "RaUenXFMUAPB",
        "colab_type": "text"
      },
      "cell_type": "markdown",
      "source": [
        "##Train The Dataset"
      ]
    },
    {
      "metadata": {
        "id": "1U1nFtUcTluL",
        "colab_type": "text"
      },
      "cell_type": "markdown",
      "source": [
        "### Import Necessary Libaries"
      ]
    },
    {
      "metadata": {
        "id": "SOUiEvwPT07C",
        "colab_type": "code",
        "colab": {}
      },
      "cell_type": "code",
      "source": [
        "import tensorflow as tf\n",
        "import numpy as np\n",
        "import matplotlib.pyplot as plt\n",
        "import time \n",
        "\n",
        "import keras\n",
        "from keras.models import Sequential\n",
        "from keras.layers import Conv2D, MaxPooling2D, AveragePooling2D\n",
        "from keras.layers.core import Dense, Dropout, Flatten, Activation"
      ],
      "execution_count": 0,
      "outputs": []
    },
    {
      "metadata": {
        "id": "dBEOBGT6Ttvk",
        "colab_type": "text"
      },
      "cell_type": "markdown",
      "source": [
        "###Check for GPU"
      ]
    },
    {
      "metadata": {
        "id": "c4YAJd50UEvv",
        "colab_type": "code",
        "outputId": "5141ee51-8f83-434a-b632-18263695ef9b",
        "colab": {
          "base_uri": "https://localhost:8080/",
          "height": 34
        }
      },
      "cell_type": "code",
      "source": [
        "device_name = tf.test.gpu_device_name()\n",
        "if device_name != '/device:GPU:0':\n",
        "  raise SystemError('GPU device not found')\n",
        "print('Found GPU at: {}'.format(device_name))\n",
        "\n",
        "config = tf.ConfigProto()\n",
        "sess = tf.Session(config=config)\n",
        "keras.backend.set_session(sess)"
      ],
      "execution_count": 71,
      "outputs": [
        {
          "output_type": "stream",
          "text": [
            "Found GPU at: /device:GPU:0\n"
          ],
          "name": "stdout"
        }
      ]
    },
    {
      "metadata": {
        "id": "80EtH_BmU4_N",
        "colab_type": "text"
      },
      "cell_type": "markdown",
      "source": [
        "### Select Settings"
      ]
    },
    {
      "metadata": {
        "id": "VNuX3XDlVBSz",
        "colab_type": "code",
        "colab": {}
      },
      "cell_type": "code",
      "source": [
        "num_classes = 7\n",
        "batch_size = 256\n",
        "epochs = 50\n",
        "VERBOSE = 1\n",
        "VALIDATION_SPLIT = 0.2"
      ],
      "execution_count": 0,
      "outputs": []
    },
    {
      "metadata": {
        "id": "kQL_8KQKVEiz",
        "colab_type": "text"
      },
      "cell_type": "markdown",
      "source": [
        "### Process Images"
      ]
    },
    {
      "metadata": {
        "id": "J0GrNNwZVNjW",
        "colab_type": "code",
        "outputId": "9ec7e50d-f8b2-4230-e702-a9d271f60de5",
        "colab": {
          "base_uri": "https://localhost:8080/",
          "height": 67
        }
      },
      "cell_type": "code",
      "source": [
        "start = time.time() \n",
        "with tf.device('/GPU:0'):\n",
        "  with open(\"fer2013.csv\") as f:\n",
        "      content = f.readlines()\n",
        "  lines = np.array(content)\n",
        "  num_of_instances = lines.size\n",
        "end = time.time()\n",
        "print(\"Number of Images: \", num_of_instances)\n",
        "print(\"Pixel number of each image: \", len(lines[1].split(\",\")[1].split(\" \")))\n",
        "print(\"Time to prepare images = \", end-start)"
      ],
      "execution_count": 73,
      "outputs": [
        {
          "output_type": "stream",
          "text": [
            "Number of Images:  35888\n",
            "Pixel number of each image:  2304\n",
            "Time to prepare images =  1.543020486831665\n"
          ],
          "name": "stdout"
        }
      ]
    },
    {
      "metadata": {
        "id": "vMFyGiH0WkNG",
        "colab_type": "text"
      },
      "cell_type": "markdown",
      "source": [
        "### Train the Model"
      ]
    },
    {
      "metadata": {
        "id": "7MAVCsHQHmx4",
        "colab_type": "code",
        "outputId": "452962fe-b621-45be-fc2c-d4b2a315950b",
        "colab": {
          "base_uri": "https://localhost:8080/",
          "height": 1781
        }
      },
      "cell_type": "code",
      "source": [
        "start = time.time()\n",
        "with tf.device('/GPU:0'):\n",
        "  x_train, y_train = [], []\n",
        "\n",
        "  for i in range(1, num_of_instances):\n",
        "      emotion, img, usage = lines[i].split(\",\")\n",
        "      val = img.split(\" \")\n",
        "      pixels = np.array(val, 'float32')\n",
        "      emotion = keras.utils.to_categorical(emotion, num_classes)\n",
        "      if 'Training' in usage:\n",
        "          y_train.append(emotion)\n",
        "          x_train.append(pixels)\n",
        "\n",
        "  x_train = np.array(x_train, 'float32')\n",
        "  y_train = np.array(y_train, 'float32')\n",
        "  x_train /= 255\n",
        "  x_train = x_train.reshape(x_train.shape[0], 48, 48, 1)\n",
        "  x_train = x_train.astype('float32')\n",
        "  print(x_train.shape[0], 'train samples')\n",
        "\n",
        "  model = Sequential()\n",
        "\n",
        "  #Four Convolutional Layer\n",
        "  model.add(Conv2D(32, (3, 3),  activation='relu', padding='same', input_shape=(48, 48, 1)))\n",
        "  model.add(MaxPooling2D(pool_size=(2, 2)))\n",
        "  model.add(Dropout(0.1))\n",
        "  model.add(Conv2D(64, (3, 3), activation='relu', padding='same'))\n",
        "  model.add(MaxPooling2D(pool_size=(2, 2)))\n",
        "  model.add(Dropout(0.1))\n",
        "  model.add(Conv2D(128, (3, 3), activation='relu', padding='same'))\n",
        "  model.add(MaxPooling2D(pool_size=(2, 2)))\n",
        "  model.add(Dropout(0.1))\n",
        "  model.add(Conv2D(256, (3, 3), activation='relu', padding='same'))\n",
        "  model.add(MaxPooling2D(pool_size=(2, 2)))\n",
        "  model.add(Dropout(0.1))\n",
        "  model.add(Flatten())\n",
        "  model.add(Dense(2048, activation='relu'))\n",
        "  model.add(Dropout(0.2))\n",
        "  model.add(Dense(1024, activation='relu'))\n",
        "  model.add(Dropout(0.2))\n",
        "  model.add(Dense(512, activation='relu'))\n",
        "  model.add(Dropout(0.2))\n",
        "\n",
        "  model.add(Dense(num_classes, activation='softmax'))\n",
        "  model.compile(loss='categorical_crossentropy', optimizer=keras.optimizers.Adam(), metrics=['accuracy'])\n",
        "  # model.summary()\n",
        "  history = model.fit(x_train, y_train, batch_size=batch_size, epochs=epochs, verbose=VERBOSE, validation_split=VALIDATION_SPLIT)\n",
        "\n",
        "  model_json = model.to_json()\n",
        "  with open(\"model.json\", \"w\") as json_file:\n",
        "      json_file.write(model_json)\n",
        "  model.save_weights(\"model.h5\")\n",
        "  print(\"Saved model to disk\")\n",
        "\n",
        "\n",
        "end = time.time()\n",
        "print(\"Saved model to disk\")\n",
        "print(\"Total Runtime To Train Model = \", end-start)"
      ],
      "execution_count": 74,
      "outputs": [
        {
          "output_type": "stream",
          "text": [
            "28709 train samples\n",
            "Train on 22967 samples, validate on 5742 samples\n",
            "Epoch 1/50\n",
            "22967/22967 [==============================] - 5s 225us/step - loss: 1.8214 - acc: 0.2467 - val_loss: 1.8083 - val_acc: 0.2524\n",
            "Epoch 2/50\n",
            "22967/22967 [==============================] - 3s 150us/step - loss: 1.7170 - acc: 0.3011 - val_loss: 1.5657 - val_acc: 0.3800\n",
            "Epoch 3/50\n",
            "22967/22967 [==============================] - 3s 150us/step - loss: 1.5261 - acc: 0.4038 - val_loss: 1.4315 - val_acc: 0.4437\n",
            "Epoch 4/50\n",
            "22967/22967 [==============================] - 3s 151us/step - loss: 1.4129 - acc: 0.4520 - val_loss: 1.3349 - val_acc: 0.4932\n",
            "Epoch 5/50\n",
            "22967/22967 [==============================] - 3s 152us/step - loss: 1.3352 - acc: 0.4850 - val_loss: 1.2612 - val_acc: 0.5176\n",
            "Epoch 6/50\n",
            "22967/22967 [==============================] - 4s 153us/step - loss: 1.2640 - acc: 0.5172 - val_loss: 1.2341 - val_acc: 0.5350\n",
            "Epoch 7/50\n",
            "22967/22967 [==============================] - 4s 153us/step - loss: 1.2003 - acc: 0.5409 - val_loss: 1.1853 - val_acc: 0.5545\n",
            "Epoch 8/50\n",
            "22967/22967 [==============================] - 4s 155us/step - loss: 1.1507 - acc: 0.5615 - val_loss: 1.1607 - val_acc: 0.5620\n",
            "Epoch 9/50\n",
            "22967/22967 [==============================] - 4s 154us/step - loss: 1.0877 - acc: 0.5863 - val_loss: 1.1437 - val_acc: 0.5695\n",
            "Epoch 10/50\n",
            "22967/22967 [==============================] - 4s 153us/step - loss: 1.0441 - acc: 0.6035 - val_loss: 1.1320 - val_acc: 0.5798\n",
            "Epoch 11/50\n",
            "22967/22967 [==============================] - 3s 152us/step - loss: 0.9961 - acc: 0.6245 - val_loss: 1.1529 - val_acc: 0.5664\n",
            "Epoch 12/50\n",
            "22967/22967 [==============================] - 3s 151us/step - loss: 0.9416 - acc: 0.6437 - val_loss: 1.1319 - val_acc: 0.5801\n",
            "Epoch 13/50\n",
            "22967/22967 [==============================] - 3s 151us/step - loss: 0.8800 - acc: 0.6718 - val_loss: 1.1583 - val_acc: 0.5885\n",
            "Epoch 14/50\n",
            "22967/22967 [==============================] - 3s 151us/step - loss: 0.8327 - acc: 0.6890 - val_loss: 1.1669 - val_acc: 0.5700\n",
            "Epoch 15/50\n",
            "22967/22967 [==============================] - 3s 151us/step - loss: 0.7759 - acc: 0.7100 - val_loss: 1.2062 - val_acc: 0.5817\n",
            "Epoch 16/50\n",
            "22967/22967 [==============================] - 3s 150us/step - loss: 0.7216 - acc: 0.7305 - val_loss: 1.1966 - val_acc: 0.5819\n",
            "Epoch 17/50\n",
            "22967/22967 [==============================] - 3s 150us/step - loss: 0.6692 - acc: 0.7523 - val_loss: 1.2235 - val_acc: 0.5810\n",
            "Epoch 18/50\n",
            "22967/22967 [==============================] - 3s 150us/step - loss: 0.6177 - acc: 0.7732 - val_loss: 1.2686 - val_acc: 0.5843\n",
            "Epoch 19/50\n",
            "22967/22967 [==============================] - 3s 149us/step - loss: 0.5715 - acc: 0.7902 - val_loss: 1.3093 - val_acc: 0.5792\n",
            "Epoch 20/50\n",
            "22967/22967 [==============================] - 3s 149us/step - loss: 0.5186 - acc: 0.8113 - val_loss: 1.3432 - val_acc: 0.5784\n",
            "Epoch 21/50\n",
            "22967/22967 [==============================] - 3s 150us/step - loss: 0.4803 - acc: 0.8258 - val_loss: 1.3641 - val_acc: 0.5841\n",
            "Epoch 22/50\n",
            "22967/22967 [==============================] - 3s 150us/step - loss: 0.4437 - acc: 0.8386 - val_loss: 1.4317 - val_acc: 0.5881\n",
            "Epoch 23/50\n",
            "22967/22967 [==============================] - 3s 149us/step - loss: 0.3979 - acc: 0.8562 - val_loss: 1.4868 - val_acc: 0.5792\n",
            "Epoch 24/50\n",
            "22967/22967 [==============================] - 3s 149us/step - loss: 0.3728 - acc: 0.8654 - val_loss: 1.4858 - val_acc: 0.5839\n",
            "Epoch 25/50\n",
            "22967/22967 [==============================] - 3s 150us/step - loss: 0.3410 - acc: 0.8798 - val_loss: 1.5698 - val_acc: 0.5770\n",
            "Epoch 26/50\n",
            "22967/22967 [==============================] - 3s 150us/step - loss: 0.3183 - acc: 0.8899 - val_loss: 1.5498 - val_acc: 0.5813\n",
            "Epoch 27/50\n",
            "22967/22967 [==============================] - 3s 150us/step - loss: 0.2918 - acc: 0.8962 - val_loss: 1.6144 - val_acc: 0.5819\n",
            "Epoch 28/50\n",
            "22967/22967 [==============================] - 3s 150us/step - loss: 0.2727 - acc: 0.9041 - val_loss: 1.6371 - val_acc: 0.5853\n",
            "Epoch 29/50\n",
            "22967/22967 [==============================] - 3s 150us/step - loss: 0.2557 - acc: 0.9099 - val_loss: 1.6412 - val_acc: 0.5857\n",
            "Epoch 30/50\n",
            "22967/22967 [==============================] - 3s 150us/step - loss: 0.2344 - acc: 0.9161 - val_loss: 1.7328 - val_acc: 0.5871\n",
            "Epoch 31/50\n",
            "22967/22967 [==============================] - 3s 152us/step - loss: 0.2277 - acc: 0.9212 - val_loss: 1.6742 - val_acc: 0.5902\n",
            "Epoch 32/50\n",
            "22967/22967 [==============================] - 3s 152us/step - loss: 0.2210 - acc: 0.9238 - val_loss: 1.7681 - val_acc: 0.5784\n",
            "Epoch 33/50\n",
            "22967/22967 [==============================] - 3s 152us/step - loss: 0.2102 - acc: 0.9260 - val_loss: 1.8114 - val_acc: 0.5869\n",
            "Epoch 34/50\n",
            "22967/22967 [==============================] - 3s 150us/step - loss: 0.1965 - acc: 0.9315 - val_loss: 1.7950 - val_acc: 0.5900\n",
            "Epoch 35/50\n",
            "22967/22967 [==============================] - 3s 150us/step - loss: 0.1835 - acc: 0.9370 - val_loss: 1.8419 - val_acc: 0.5862\n",
            "Epoch 36/50\n",
            "22967/22967 [==============================] - 3s 151us/step - loss: 0.1809 - acc: 0.9370 - val_loss: 1.8000 - val_acc: 0.5904\n",
            "Epoch 37/50\n",
            "22967/22967 [==============================] - 3s 151us/step - loss: 0.1683 - acc: 0.9405 - val_loss: 1.9201 - val_acc: 0.5848\n",
            "Epoch 38/50\n",
            "22967/22967 [==============================] - 3s 151us/step - loss: 0.1611 - acc: 0.9454 - val_loss: 1.8983 - val_acc: 0.5881\n",
            "Epoch 39/50\n",
            "22967/22967 [==============================] - 3s 150us/step - loss: 0.1565 - acc: 0.9456 - val_loss: 1.9469 - val_acc: 0.5895\n",
            "Epoch 40/50\n",
            "22967/22967 [==============================] - 3s 151us/step - loss: 0.1546 - acc: 0.9463 - val_loss: 1.9708 - val_acc: 0.5780\n",
            "Epoch 41/50\n",
            "22967/22967 [==============================] - 3s 150us/step - loss: 0.1392 - acc: 0.9524 - val_loss: 1.9890 - val_acc: 0.5848\n",
            "Epoch 42/50\n",
            "22967/22967 [==============================] - 3s 150us/step - loss: 0.1411 - acc: 0.9517 - val_loss: 2.0288 - val_acc: 0.5893\n",
            "Epoch 43/50\n",
            "22967/22967 [==============================] - 3s 150us/step - loss: 0.1311 - acc: 0.9552 - val_loss: 2.0579 - val_acc: 0.5832\n",
            "Epoch 44/50\n",
            "22967/22967 [==============================] - 3s 150us/step - loss: 0.1247 - acc: 0.9572 - val_loss: 2.0302 - val_acc: 0.5885\n",
            "Epoch 45/50\n",
            "22967/22967 [==============================] - 3s 150us/step - loss: 0.1339 - acc: 0.9542 - val_loss: 1.9660 - val_acc: 0.5765\n",
            "Epoch 46/50\n",
            "22967/22967 [==============================] - 3s 150us/step - loss: 0.1175 - acc: 0.9589 - val_loss: 2.1203 - val_acc: 0.5893\n",
            "Epoch 47/50\n",
            "22967/22967 [==============================] - 3s 150us/step - loss: 0.1195 - acc: 0.9597 - val_loss: 2.1744 - val_acc: 0.5930\n",
            "Epoch 48/50\n",
            "22967/22967 [==============================] - 3s 150us/step - loss: 0.1205 - acc: 0.9569 - val_loss: 2.0885 - val_acc: 0.5791\n",
            "Epoch 49/50\n",
            "22967/22967 [==============================] - 3s 150us/step - loss: 0.1244 - acc: 0.9558 - val_loss: 2.0977 - val_acc: 0.5827\n",
            "Epoch 50/50\n",
            "22967/22967 [==============================] - 3s 150us/step - loss: 0.1151 - acc: 0.9612 - val_loss: 2.0751 - val_acc: 0.5852\n",
            "Saved model to disk\n",
            "Saved model to disk\n",
            "Total Runtime To Train Model =  190.81475496292114\n"
          ],
          "name": "stdout"
        }
      ]
    },
    {
      "metadata": {
        "id": "5SIzv0mWYQnf",
        "colab_type": "text"
      },
      "cell_type": "markdown",
      "source": [
        "##Test the Dataset"
      ]
    },
    {
      "metadata": {
        "id": "E0OhxbLwYdCj",
        "colab_type": "text"
      },
      "cell_type": "markdown",
      "source": [
        "###Import Necessary Libraries"
      ]
    },
    {
      "metadata": {
        "id": "HXUYU_9SYhma",
        "colab_type": "code",
        "colab": {}
      },
      "cell_type": "code",
      "source": [
        "import numpy as np\n",
        "import matplotlib.pyplot as plt\n",
        "import keras\n",
        "import time\n",
        "from keras.models import model_from_json"
      ],
      "execution_count": 0,
      "outputs": []
    },
    {
      "metadata": {
        "id": "o7KOQV0JQ_3_",
        "colab_type": "code",
        "outputId": "bf8f8bd8-be7e-4b85-e06f-bd7f96004a59",
        "colab": {
          "base_uri": "https://localhost:8080/",
          "height": 101
        }
      },
      "cell_type": "code",
      "source": [
        "start = time.time()\n",
        "num_classes = 7\n",
        "with tf.device('/GPU:0'):\n",
        "  with open(\"fer2013.csv\") as f:\n",
        "      content = f.readlines()\n",
        "  lines = np.array(content)\n",
        "  num_of_instances = lines.size\n",
        "\n",
        "  x_test, y_test = [], []\n",
        "\n",
        "  for i in range(1, num_of_instances):\n",
        "      emotion, img, usage = lines[i].split(\",\")\n",
        "      val = img.split(\" \")\n",
        "      pixels = np.array(val, 'float32')\n",
        "      emotion = keras.utils.to_categorical(emotion, num_classes)\n",
        "      if 'PublicTest' in usage:\n",
        "          y_test.append(emotion)\n",
        "          x_test.append(pixels)\n",
        "\n",
        "  x_test = np.array(x_test, 'float32')\n",
        "  y_test = np.array(y_test, 'float32')\n",
        "  x_test /= 255\n",
        "  x_test = x_test.reshape(x_test.shape[0], 48, 48, 1)\n",
        "  x_test = x_test.astype('float32')\n",
        "  print(x_test.shape[0], 'test samples')\n",
        "\n",
        "  json_file = open('model.json', 'r')\n",
        "  loaded_model_json = json_file.read()\n",
        "  json_file.close()\n",
        "  loaded_model = model_from_json(loaded_model_json)\n",
        "  loaded_model.load_weights(\"model.h5\")\n",
        "  print(\"Loaded model from disk\")\n",
        "  loaded_model.compile(loss='categorical_crossentropy', optimizer=keras.optimizers.Adam(), metrics=['accuracy'])\n",
        "\n",
        "\n",
        "def emotion_analysis(emotions):\n",
        "    objects = ('angry', 'disgust', 'fear', 'happy', 'sad', 'surprise', 'neutral')\n",
        "    y_pos = np.arange(len(objects))\n",
        "    plt.bar(y_pos, emotions, align='center', alpha=0.5)\n",
        "    plt.xticks(y_pos, objects)\n",
        "    plt.ylabel('percentage')\n",
        "    plt.title('emotion')\n",
        "    plt.show()\n",
        "\n",
        "evaluation = loaded_model.evaluate(x_test, y_test, batch_size=256, verbose=1)\n",
        "end = time.time()\n",
        "print('Summary: Loss over the test data set: %.2f, Accuracy: %.2f' % (evaluation[0], evaluation[1]))\n",
        "print(\"Total Time in Testing Model: \", end-start)"
      ],
      "execution_count": 76,
      "outputs": [
        {
          "output_type": "stream",
          "text": [
            "3589 test samples\n",
            "Loaded model from disk\n",
            "3589/3589 [==============================] - 1s 273us/step\n",
            "Summary: Loss over the test data set: 2.11, Accuracy: 0.58\n",
            "Total Time in Testing Model:  17.83519434928894\n"
          ],
          "name": "stdout"
        }
      ]
    }
  ]
}