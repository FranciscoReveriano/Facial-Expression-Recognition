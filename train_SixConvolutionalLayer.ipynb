{
  "nbformat": 4,
  "nbformat_minor": 0,
  "metadata": {
    "colab": {
      "name": "train_SixConvolutionalLayer.ipynb",
      "version": "0.3.2",
      "provenance": [],
      "collapsed_sections": [],
      "include_colab_link": true
    },
    "kernelspec": {
      "name": "python3",
      "display_name": "Python 3"
    },
    "accelerator": "GPU"
  },
  "cells": [
    {
      "cell_type": "markdown",
      "metadata": {
        "id": "view-in-github",
        "colab_type": "text"
      },
      "source": [
        "<a href=\"https://colab.research.google.com/github/FranciscoReveriano/Facial-Expression-Recognition/blob/master/train_SixConvolutionalLayer.ipynb\" target=\"_parent\"><img src=\"https://colab.research.google.com/assets/colab-badge.svg\" alt=\"Open In Colab\"/></a>"
      ]
    },
    {
      "metadata": {
        "id": "K3dpKNWbTejk",
        "colab_type": "text"
      },
      "cell_type": "markdown",
      "source": [
        "# Original Model"
      ]
    },
    {
      "metadata": {
        "id": "RaUenXFMUAPB",
        "colab_type": "text"
      },
      "cell_type": "markdown",
      "source": [
        "##Train The Dataset"
      ]
    },
    {
      "metadata": {
        "id": "1U1nFtUcTluL",
        "colab_type": "text"
      },
      "cell_type": "markdown",
      "source": [
        "### Import Necessary Libaries"
      ]
    },
    {
      "metadata": {
        "id": "SOUiEvwPT07C",
        "colab_type": "code",
        "colab": {}
      },
      "cell_type": "code",
      "source": [
        "import tensorflow as tf\n",
        "import numpy as np\n",
        "import matplotlib.pyplot as plt\n",
        "import time \n",
        "\n",
        "import keras\n",
        "from keras.models import Sequential\n",
        "from keras.layers import Conv2D, MaxPooling2D, AveragePooling2D\n",
        "from keras.layers.core import Dense, Dropout, Flatten, Activation"
      ],
      "execution_count": 0,
      "outputs": []
    },
    {
      "metadata": {
        "id": "dBEOBGT6Ttvk",
        "colab_type": "text"
      },
      "cell_type": "markdown",
      "source": [
        "###Check for GPU"
      ]
    },
    {
      "metadata": {
        "id": "c4YAJd50UEvv",
        "colab_type": "code",
        "outputId": "a27fa7d0-33da-4bff-c746-58cda4a3c5e9",
        "colab": {
          "base_uri": "https://localhost:8080/",
          "height": 34
        }
      },
      "cell_type": "code",
      "source": [
        "device_name = tf.test.gpu_device_name()\n",
        "if device_name != '/device:GPU:0':\n",
        "  raise SystemError('GPU device not found')\n",
        "print('Found GPU at: {}'.format(device_name))\n",
        "\n",
        "config = tf.ConfigProto()\n",
        "sess = tf.Session(config=config)\n",
        "keras.backend.set_session(sess)"
      ],
      "execution_count": 85,
      "outputs": [
        {
          "output_type": "stream",
          "text": [
            "Found GPU at: /device:GPU:0\n"
          ],
          "name": "stdout"
        }
      ]
    },
    {
      "metadata": {
        "id": "80EtH_BmU4_N",
        "colab_type": "text"
      },
      "cell_type": "markdown",
      "source": [
        "### Select Settings"
      ]
    },
    {
      "metadata": {
        "id": "VNuX3XDlVBSz",
        "colab_type": "code",
        "colab": {}
      },
      "cell_type": "code",
      "source": [
        "num_classes = 7\n",
        "batch_size = 256\n",
        "epochs = 100\n",
        "VERBOSE = 1\n",
        "VALIDATION_SPLIT = 0.2"
      ],
      "execution_count": 0,
      "outputs": []
    },
    {
      "metadata": {
        "id": "kQL_8KQKVEiz",
        "colab_type": "text"
      },
      "cell_type": "markdown",
      "source": [
        "### Process Images"
      ]
    },
    {
      "metadata": {
        "id": "J0GrNNwZVNjW",
        "colab_type": "code",
        "outputId": "af75484f-5af0-4667-dfae-d349fa68fcdb",
        "colab": {
          "base_uri": "https://localhost:8080/",
          "height": 67
        }
      },
      "cell_type": "code",
      "source": [
        "start = time.time() \n",
        "with tf.device('/GPU:0'):\n",
        "  with open(\"fer2013.csv\") as f:\n",
        "      content = f.readlines()\n",
        "  lines = np.array(content)\n",
        "  num_of_instances = lines.size\n",
        "end = time.time()\n",
        "print(\"Number of Images: \", num_of_instances)\n",
        "print(\"Pixel number of each image: \", len(lines[1].split(\",\")[1].split(\" \")))\n",
        "print(\"Time to prepare images = \", end-start)"
      ],
      "execution_count": 87,
      "outputs": [
        {
          "output_type": "stream",
          "text": [
            "Number of Images:  35888\n",
            "Pixel number of each image:  2304\n",
            "Time to prepare images =  1.8141534328460693\n"
          ],
          "name": "stdout"
        }
      ]
    },
    {
      "metadata": {
        "id": "vMFyGiH0WkNG",
        "colab_type": "text"
      },
      "cell_type": "markdown",
      "source": [
        "### Train the Model"
      ]
    },
    {
      "metadata": {
        "id": "7MAVCsHQHmx4",
        "colab_type": "code",
        "outputId": "ce70b229-b20a-49c9-f3d1-38ee63819d26",
        "colab": {
          "base_uri": "https://localhost:8080/",
          "height": 3461
        }
      },
      "cell_type": "code",
      "source": [
        "start = time.time()\n",
        "with tf.device('/GPU:0'):\n",
        "  x_train, y_train = [], []\n",
        "\n",
        "  for i in range(1, num_of_instances):\n",
        "      emotion, img, usage = lines[i].split(\",\")\n",
        "      val = img.split(\" \")\n",
        "      pixels = np.array(val, 'float32')\n",
        "      emotion = keras.utils.to_categorical(emotion, num_classes)\n",
        "      if 'Training' in usage:\n",
        "          y_train.append(emotion)\n",
        "          x_train.append(pixels)\n",
        "\n",
        "  x_train = np.array(x_train, 'float32')\n",
        "  y_train = np.array(y_train, 'float32')\n",
        "  x_train /= 255\n",
        "  x_train = x_train.reshape(x_train.shape[0], 48, 48, 1)\n",
        "  x_train = x_train.astype('float32')\n",
        "  print(x_train.shape[0], 'train samples')\n",
        "\n",
        "  model = Sequential()\n",
        "  \n",
        "  #Six Convolutional Layers\n",
        "  model.add(Conv2D(32, (3, 3), activation='relu', input_shape=(48, 48, 1)))\n",
        "  model.add(Conv2D(32, (3, 3), activation='relu'))\n",
        "  model.add(MaxPooling2D(pool_size=(3, 3), strides=(2, 2)))\n",
        "  model.add(Conv2D(64, (3, 3), activation='relu'))\n",
        "  model.add(Conv2D(64, (3, 3), activation='relu'))\n",
        "  model.add(AveragePooling2D(pool_size=(3, 3), strides=(2, 2)))\n",
        "  model.add(Dropout(0.3))\n",
        "  model.add(Conv2D(128, (3, 3), activation='relu'))\n",
        "  model.add(Conv2D(128, (3, 3), activation='relu'))\n",
        "  model.add(AveragePooling2D(pool_size=(3, 3), strides=(2, 2)))\n",
        "  model.add(Dropout(0.3))\n",
        "  model.add(Flatten())\n",
        "  model.add(Dense(1024, activation='relu'))\n",
        "  model.add(Dense(512, activation='relu'))\n",
        "  model.add(Dropout(0.3))\n",
        "\n",
        "  model.add(Dense(num_classes, activation='softmax'))\n",
        "  model.compile(loss='categorical_crossentropy', optimizer=keras.optimizers.Adam(), metrics=['accuracy'])\n",
        "  # model.summary()\n",
        "  history = model.fit(x_train, y_train, batch_size=batch_size, epochs=epochs, verbose=VERBOSE, validation_split=VALIDATION_SPLIT)\n",
        "\n",
        "  model_json = model.to_json()\n",
        "  with open(\"model.json\", \"w\") as json_file:\n",
        "      json_file.write(model_json)\n",
        "  model.save_weights(\"model.h5\")\n",
        "  print(\"Saved model to disk\")\n",
        "\n",
        "\n",
        "end = time.time()\n",
        "print(\"Saved model to disk\")\n",
        "print(\"Total Runtime To Train Model = \", end-start)"
      ],
      "execution_count": 88,
      "outputs": [
        {
          "output_type": "stream",
          "text": [
            "28709 train samples\n",
            "Train on 22967 samples, validate on 5742 samples\n",
            "Epoch 1/100\n",
            "22967/22967 [==============================] - 5s 219us/step - loss: 1.8309 - acc: 0.2380 - val_loss: 1.8073 - val_acc: 0.2517\n",
            "Epoch 2/100\n",
            "22967/22967 [==============================] - 3s 151us/step - loss: 1.8043 - acc: 0.2538 - val_loss: 1.7878 - val_acc: 0.2530\n",
            "Epoch 3/100\n",
            "22967/22967 [==============================] - 3s 152us/step - loss: 1.7800 - acc: 0.2544 - val_loss: 1.7473 - val_acc: 0.2746\n",
            "Epoch 4/100\n",
            "22967/22967 [==============================] - 3s 151us/step - loss: 1.7084 - acc: 0.2946 - val_loss: 1.6404 - val_acc: 0.3447\n",
            "Epoch 5/100\n",
            "22967/22967 [==============================] - 3s 151us/step - loss: 1.6011 - acc: 0.3600 - val_loss: 1.5042 - val_acc: 0.4084\n",
            "Epoch 6/100\n",
            "22967/22967 [==============================] - 3s 152us/step - loss: 1.4985 - acc: 0.4105 - val_loss: 1.4345 - val_acc: 0.4437\n",
            "Epoch 7/100\n",
            "22967/22967 [==============================] - 3s 152us/step - loss: 1.4369 - acc: 0.4436 - val_loss: 1.3675 - val_acc: 0.4683\n",
            "Epoch 8/100\n",
            "22967/22967 [==============================] - 4s 153us/step - loss: 1.3837 - acc: 0.4674 - val_loss: 1.3129 - val_acc: 0.4995\n",
            "Epoch 9/100\n",
            "22967/22967 [==============================] - 4s 153us/step - loss: 1.3320 - acc: 0.4860 - val_loss: 1.2770 - val_acc: 0.5134\n",
            "Epoch 10/100\n",
            "22967/22967 [==============================] - 4s 153us/step - loss: 1.2843 - acc: 0.5078 - val_loss: 1.2283 - val_acc: 0.5345\n",
            "Epoch 11/100\n",
            "22967/22967 [==============================] - 4s 154us/step - loss: 1.2529 - acc: 0.5206 - val_loss: 1.2171 - val_acc: 0.5324\n",
            "Epoch 12/100\n",
            "22967/22967 [==============================] - 4s 153us/step - loss: 1.2324 - acc: 0.5290 - val_loss: 1.2184 - val_acc: 0.5354\n",
            "Epoch 13/100\n",
            "22967/22967 [==============================] - 3s 152us/step - loss: 1.2019 - acc: 0.5452 - val_loss: 1.1795 - val_acc: 0.5500\n",
            "Epoch 14/100\n",
            "22967/22967 [==============================] - 3s 152us/step - loss: 1.1776 - acc: 0.5550 - val_loss: 1.1515 - val_acc: 0.5634\n",
            "Epoch 15/100\n",
            "22967/22967 [==============================] - 3s 151us/step - loss: 1.1514 - acc: 0.5629 - val_loss: 1.1780 - val_acc: 0.5578\n",
            "Epoch 16/100\n",
            "22967/22967 [==============================] - 3s 150us/step - loss: 1.1350 - acc: 0.5725 - val_loss: 1.1399 - val_acc: 0.5712\n",
            "Epoch 17/100\n",
            "22967/22967 [==============================] - 3s 151us/step - loss: 1.1153 - acc: 0.5762 - val_loss: 1.1323 - val_acc: 0.5690\n",
            "Epoch 18/100\n",
            "22967/22967 [==============================] - 3s 150us/step - loss: 1.0972 - acc: 0.5841 - val_loss: 1.1150 - val_acc: 0.5770\n",
            "Epoch 19/100\n",
            "22967/22967 [==============================] - 3s 150us/step - loss: 1.0786 - acc: 0.5954 - val_loss: 1.1165 - val_acc: 0.5789\n",
            "Epoch 20/100\n",
            "22967/22967 [==============================] - 3s 150us/step - loss: 1.0563 - acc: 0.5995 - val_loss: 1.1359 - val_acc: 0.5775\n",
            "Epoch 21/100\n",
            "22967/22967 [==============================] - 3s 149us/step - loss: 1.0422 - acc: 0.6087 - val_loss: 1.1073 - val_acc: 0.5881\n",
            "Epoch 22/100\n",
            "22967/22967 [==============================] - 3s 150us/step - loss: 1.0228 - acc: 0.6151 - val_loss: 1.0953 - val_acc: 0.5900\n",
            "Epoch 23/100\n",
            "22967/22967 [==============================] - 3s 149us/step - loss: 1.0054 - acc: 0.6193 - val_loss: 1.0960 - val_acc: 0.5930\n",
            "Epoch 24/100\n",
            "22967/22967 [==============================] - 3s 151us/step - loss: 0.9881 - acc: 0.6288 - val_loss: 1.0989 - val_acc: 0.5930\n",
            "Epoch 25/100\n",
            "22967/22967 [==============================] - 3s 152us/step - loss: 0.9795 - acc: 0.6307 - val_loss: 1.0971 - val_acc: 0.5916\n",
            "Epoch 26/100\n",
            "22967/22967 [==============================] - 3s 152us/step - loss: 0.9639 - acc: 0.6401 - val_loss: 1.1081 - val_acc: 0.5881\n",
            "Epoch 27/100\n",
            "22967/22967 [==============================] - 3s 150us/step - loss: 0.9475 - acc: 0.6442 - val_loss: 1.0966 - val_acc: 0.5960\n",
            "Epoch 28/100\n",
            "22967/22967 [==============================] - 3s 150us/step - loss: 0.9276 - acc: 0.6512 - val_loss: 1.0883 - val_acc: 0.5956\n",
            "Epoch 29/100\n",
            "22967/22967 [==============================] - 3s 150us/step - loss: 0.9111 - acc: 0.6586 - val_loss: 1.0893 - val_acc: 0.6008\n",
            "Epoch 30/100\n",
            "22967/22967 [==============================] - 3s 150us/step - loss: 0.8978 - acc: 0.6653 - val_loss: 1.1118 - val_acc: 0.5892\n",
            "Epoch 31/100\n",
            "22967/22967 [==============================] - 3s 150us/step - loss: 0.8986 - acc: 0.6633 - val_loss: 1.1168 - val_acc: 0.5951\n",
            "Epoch 32/100\n",
            "22967/22967 [==============================] - 3s 150us/step - loss: 0.8684 - acc: 0.6745 - val_loss: 1.1063 - val_acc: 0.6005\n",
            "Epoch 33/100\n",
            "22967/22967 [==============================] - 3s 150us/step - loss: 0.8643 - acc: 0.6801 - val_loss: 1.1071 - val_acc: 0.5954\n",
            "Epoch 34/100\n",
            "22967/22967 [==============================] - 3s 151us/step - loss: 0.8565 - acc: 0.6755 - val_loss: 1.1176 - val_acc: 0.5993\n",
            "Epoch 35/100\n",
            "22967/22967 [==============================] - 3s 151us/step - loss: 0.8462 - acc: 0.6846 - val_loss: 1.1257 - val_acc: 0.5930\n",
            "Epoch 36/100\n",
            "22967/22967 [==============================] - 3s 151us/step - loss: 0.8281 - acc: 0.6894 - val_loss: 1.1081 - val_acc: 0.5993\n",
            "Epoch 37/100\n",
            "22967/22967 [==============================] - 3s 151us/step - loss: 0.8191 - acc: 0.6956 - val_loss: 1.1228 - val_acc: 0.5932\n",
            "Epoch 38/100\n",
            "22967/22967 [==============================] - 3s 150us/step - loss: 0.8032 - acc: 0.7027 - val_loss: 1.1291 - val_acc: 0.6003\n",
            "Epoch 39/100\n",
            "22967/22967 [==============================] - 3s 151us/step - loss: 0.7930 - acc: 0.7031 - val_loss: 1.1154 - val_acc: 0.6000\n",
            "Epoch 40/100\n",
            "22967/22967 [==============================] - 3s 151us/step - loss: 0.7848 - acc: 0.7070 - val_loss: 1.1605 - val_acc: 0.5986\n",
            "Epoch 41/100\n",
            "22967/22967 [==============================] - 3s 151us/step - loss: 0.7703 - acc: 0.7124 - val_loss: 1.1476 - val_acc: 0.6061\n",
            "Epoch 42/100\n",
            "22967/22967 [==============================] - 3s 151us/step - loss: 0.7518 - acc: 0.7199 - val_loss: 1.1345 - val_acc: 0.6000\n",
            "Epoch 43/100\n",
            "22967/22967 [==============================] - 3s 151us/step - loss: 0.7516 - acc: 0.7205 - val_loss: 1.1518 - val_acc: 0.6012\n",
            "Epoch 44/100\n",
            "22967/22967 [==============================] - 3s 150us/step - loss: 0.7220 - acc: 0.7321 - val_loss: 1.1727 - val_acc: 0.6010\n",
            "Epoch 45/100\n",
            "22967/22967 [==============================] - 3s 150us/step - loss: 0.7299 - acc: 0.7272 - val_loss: 1.1689 - val_acc: 0.5972\n",
            "Epoch 46/100\n",
            "22967/22967 [==============================] - 3s 150us/step - loss: 0.7264 - acc: 0.7294 - val_loss: 1.1515 - val_acc: 0.6102\n",
            "Epoch 47/100\n",
            "22967/22967 [==============================] - 3s 151us/step - loss: 0.7064 - acc: 0.7370 - val_loss: 1.1899 - val_acc: 0.5980\n",
            "Epoch 48/100\n",
            "22967/22967 [==============================] - 3s 152us/step - loss: 0.6979 - acc: 0.7420 - val_loss: 1.1642 - val_acc: 0.6003\n",
            "Epoch 49/100\n",
            "22967/22967 [==============================] - 3s 152us/step - loss: 0.6897 - acc: 0.7417 - val_loss: 1.1703 - val_acc: 0.6055\n",
            "Epoch 50/100\n",
            "22967/22967 [==============================] - 3s 151us/step - loss: 0.6875 - acc: 0.7445 - val_loss: 1.1992 - val_acc: 0.5963\n",
            "Epoch 51/100\n",
            "22967/22967 [==============================] - 3s 150us/step - loss: 0.6677 - acc: 0.7525 - val_loss: 1.1884 - val_acc: 0.6019\n",
            "Epoch 52/100\n",
            "22967/22967 [==============================] - 3s 150us/step - loss: 0.6708 - acc: 0.7492 - val_loss: 1.1821 - val_acc: 0.6007\n",
            "Epoch 53/100\n",
            "22967/22967 [==============================] - 3s 150us/step - loss: 0.6500 - acc: 0.7629 - val_loss: 1.2071 - val_acc: 0.5996\n",
            "Epoch 54/100\n",
            "22967/22967 [==============================] - 3s 150us/step - loss: 0.6463 - acc: 0.7606 - val_loss: 1.2198 - val_acc: 0.6014\n",
            "Epoch 55/100\n",
            "22967/22967 [==============================] - 3s 150us/step - loss: 0.6425 - acc: 0.7641 - val_loss: 1.2118 - val_acc: 0.6024\n",
            "Epoch 56/100\n",
            "22967/22967 [==============================] - 3s 151us/step - loss: 0.6272 - acc: 0.7722 - val_loss: 1.1971 - val_acc: 0.6036\n",
            "Epoch 57/100\n",
            "22967/22967 [==============================] - 3s 150us/step - loss: 0.6268 - acc: 0.7713 - val_loss: 1.2126 - val_acc: 0.5958\n",
            "Epoch 58/100\n",
            "22967/22967 [==============================] - 3s 150us/step - loss: 0.6187 - acc: 0.7742 - val_loss: 1.2311 - val_acc: 0.6010\n",
            "Epoch 59/100\n",
            "22967/22967 [==============================] - 3s 150us/step - loss: 0.6045 - acc: 0.7761 - val_loss: 1.2256 - val_acc: 0.6087\n",
            "Epoch 60/100\n",
            "22967/22967 [==============================] - 3s 150us/step - loss: 0.6064 - acc: 0.7784 - val_loss: 1.2802 - val_acc: 0.5975\n",
            "Epoch 61/100\n",
            "22967/22967 [==============================] - 3s 150us/step - loss: 0.6007 - acc: 0.7789 - val_loss: 1.2639 - val_acc: 0.6034\n",
            "Epoch 62/100\n",
            "22967/22967 [==============================] - 3s 150us/step - loss: 0.5840 - acc: 0.7855 - val_loss: 1.2389 - val_acc: 0.6022\n",
            "Epoch 63/100\n",
            "22967/22967 [==============================] - 3s 150us/step - loss: 0.5955 - acc: 0.7791 - val_loss: 1.2311 - val_acc: 0.6045\n",
            "Epoch 64/100\n",
            "22967/22967 [==============================] - 3s 150us/step - loss: 0.5840 - acc: 0.7877 - val_loss: 1.2286 - val_acc: 0.6108\n",
            "Epoch 65/100\n",
            "22967/22967 [==============================] - 3s 150us/step - loss: 0.5712 - acc: 0.7908 - val_loss: 1.2348 - val_acc: 0.6040\n",
            "Epoch 66/100\n",
            "22967/22967 [==============================] - 3s 150us/step - loss: 0.5689 - acc: 0.7914 - val_loss: 1.2436 - val_acc: 0.6088\n",
            "Epoch 67/100\n",
            "22967/22967 [==============================] - 3s 150us/step - loss: 0.5622 - acc: 0.7944 - val_loss: 1.2701 - val_acc: 0.5991\n",
            "Epoch 68/100\n",
            "22967/22967 [==============================] - 3s 150us/step - loss: 0.5594 - acc: 0.7934 - val_loss: 1.2794 - val_acc: 0.6008\n",
            "Epoch 69/100\n",
            "22967/22967 [==============================] - 3s 151us/step - loss: 0.5486 - acc: 0.8002 - val_loss: 1.3180 - val_acc: 0.5996\n",
            "Epoch 70/100\n",
            "22967/22967 [==============================] - 3s 151us/step - loss: 0.5477 - acc: 0.7986 - val_loss: 1.2830 - val_acc: 0.6055\n",
            "Epoch 71/100\n",
            "22967/22967 [==============================] - 3s 152us/step - loss: 0.5456 - acc: 0.7995 - val_loss: 1.2935 - val_acc: 0.6064\n",
            "Epoch 72/100\n",
            "22967/22967 [==============================] - 3s 152us/step - loss: 0.5400 - acc: 0.8017 - val_loss: 1.3132 - val_acc: 0.6052\n",
            "Epoch 73/100\n",
            "22967/22967 [==============================] - 3s 152us/step - loss: 0.5214 - acc: 0.8083 - val_loss: 1.2923 - val_acc: 0.6038\n",
            "Epoch 74/100\n",
            "22967/22967 [==============================] - 3s 151us/step - loss: 0.5287 - acc: 0.8062 - val_loss: 1.2934 - val_acc: 0.6033\n",
            "Epoch 75/100\n",
            "22967/22967 [==============================] - 3s 151us/step - loss: 0.5239 - acc: 0.8057 - val_loss: 1.3218 - val_acc: 0.6017\n",
            "Epoch 76/100\n",
            "22967/22967 [==============================] - 3s 151us/step - loss: 0.5219 - acc: 0.8105 - val_loss: 1.3163 - val_acc: 0.6115\n",
            "Epoch 77/100\n",
            "22967/22967 [==============================] - 3s 152us/step - loss: 0.5009 - acc: 0.8165 - val_loss: 1.3512 - val_acc: 0.6062\n",
            "Epoch 78/100\n",
            "22967/22967 [==============================] - 4s 153us/step - loss: 0.5142 - acc: 0.8118 - val_loss: 1.3295 - val_acc: 0.6041\n",
            "Epoch 79/100\n",
            "22967/22967 [==============================] - 4s 153us/step - loss: 0.5005 - acc: 0.8168 - val_loss: 1.3429 - val_acc: 0.6099\n",
            "Epoch 80/100\n",
            "22967/22967 [==============================] - 3s 151us/step - loss: 0.4981 - acc: 0.8136 - val_loss: 1.3440 - val_acc: 0.5980\n",
            "Epoch 81/100\n",
            "22967/22967 [==============================] - 3s 150us/step - loss: 0.4932 - acc: 0.8194 - val_loss: 1.3642 - val_acc: 0.5967\n",
            "Epoch 82/100\n",
            "22967/22967 [==============================] - 3s 150us/step - loss: 0.4872 - acc: 0.8200 - val_loss: 1.3179 - val_acc: 0.6047\n",
            "Epoch 83/100\n",
            "22967/22967 [==============================] - 3s 150us/step - loss: 0.4824 - acc: 0.8252 - val_loss: 1.3417 - val_acc: 0.6047\n",
            "Epoch 84/100\n",
            "22967/22967 [==============================] - 3s 150us/step - loss: 0.4723 - acc: 0.8271 - val_loss: 1.3621 - val_acc: 0.6055\n",
            "Epoch 85/100\n",
            "22967/22967 [==============================] - 3s 150us/step - loss: 0.4685 - acc: 0.8278 - val_loss: 1.3551 - val_acc: 0.6036\n",
            "Epoch 86/100\n",
            "22967/22967 [==============================] - 3s 150us/step - loss: 0.4710 - acc: 0.8297 - val_loss: 1.3643 - val_acc: 0.6059\n",
            "Epoch 87/100\n",
            "22967/22967 [==============================] - 3s 151us/step - loss: 0.4649 - acc: 0.8318 - val_loss: 1.3641 - val_acc: 0.6115\n",
            "Epoch 88/100\n",
            "22967/22967 [==============================] - 3s 150us/step - loss: 0.4704 - acc: 0.8289 - val_loss: 1.3748 - val_acc: 0.6031\n",
            "Epoch 89/100\n",
            "22967/22967 [==============================] - 3s 150us/step - loss: 0.4569 - acc: 0.8336 - val_loss: 1.3720 - val_acc: 0.6083\n",
            "Epoch 90/100\n",
            "22967/22967 [==============================] - 3s 151us/step - loss: 0.4483 - acc: 0.8373 - val_loss: 1.4318 - val_acc: 0.6078\n",
            "Epoch 91/100\n",
            "22967/22967 [==============================] - 3s 152us/step - loss: 0.4483 - acc: 0.8356 - val_loss: 1.3764 - val_acc: 0.6122\n",
            "Epoch 92/100\n",
            "22967/22967 [==============================] - 3s 150us/step - loss: 0.4474 - acc: 0.8340 - val_loss: 1.3904 - val_acc: 0.6033\n",
            "Epoch 93/100\n",
            "22967/22967 [==============================] - 3s 150us/step - loss: 0.4456 - acc: 0.8366 - val_loss: 1.4009 - val_acc: 0.5965\n",
            "Epoch 94/100\n",
            "22967/22967 [==============================] - 3s 152us/step - loss: 0.4367 - acc: 0.8387 - val_loss: 1.4195 - val_acc: 0.6092\n",
            "Epoch 95/100\n",
            "22967/22967 [==============================] - 3s 152us/step - loss: 0.4374 - acc: 0.8423 - val_loss: 1.4057 - val_acc: 0.6068\n",
            "Epoch 96/100\n",
            "22967/22967 [==============================] - 3s 152us/step - loss: 0.4302 - acc: 0.8433 - val_loss: 1.4334 - val_acc: 0.6118\n",
            "Epoch 97/100\n",
            "22967/22967 [==============================] - 3s 150us/step - loss: 0.4289 - acc: 0.8424 - val_loss: 1.4070 - val_acc: 0.6075\n",
            "Epoch 98/100\n",
            "22967/22967 [==============================] - 3s 150us/step - loss: 0.4077 - acc: 0.8507 - val_loss: 1.4898 - val_acc: 0.6036\n",
            "Epoch 99/100\n",
            "22967/22967 [==============================] - 3s 150us/step - loss: 0.4181 - acc: 0.8500 - val_loss: 1.4304 - val_acc: 0.6061\n",
            "Epoch 100/100\n",
            "22967/22967 [==============================] - 3s 150us/step - loss: 0.4171 - acc: 0.8492 - val_loss: 1.4342 - val_acc: 0.6123\n",
            "Saved model to disk\n",
            "Saved model to disk\n",
            "Total Runtime To Train Model =  363.9585087299347\n"
          ],
          "name": "stdout"
        }
      ]
    },
    {
      "metadata": {
        "id": "5SIzv0mWYQnf",
        "colab_type": "text"
      },
      "cell_type": "markdown",
      "source": [
        "##Test the Dataset"
      ]
    },
    {
      "metadata": {
        "id": "E0OhxbLwYdCj",
        "colab_type": "text"
      },
      "cell_type": "markdown",
      "source": [
        "###Import Necessary Libraries"
      ]
    },
    {
      "metadata": {
        "id": "HXUYU_9SYhma",
        "colab_type": "code",
        "colab": {}
      },
      "cell_type": "code",
      "source": [
        "import numpy as np\n",
        "import matplotlib.pyplot as plt\n",
        "import keras\n",
        "import time\n",
        "from keras.models import model_from_json"
      ],
      "execution_count": 0,
      "outputs": []
    },
    {
      "metadata": {
        "id": "o7KOQV0JQ_3_",
        "colab_type": "code",
        "outputId": "5dbdd7d3-59cd-4a26-ce55-ffdabfefeb01",
        "colab": {
          "base_uri": "https://localhost:8080/",
          "height": 101
        }
      },
      "cell_type": "code",
      "source": [
        "start = time.time()\n",
        "num_classes = 7\n",
        "with tf.device('/GPU:0'):\n",
        "  with open(\"fer2013.csv\") as f:\n",
        "      content = f.readlines()\n",
        "  lines = np.array(content)\n",
        "  num_of_instances = lines.size\n",
        "\n",
        "  x_test, y_test = [], []\n",
        "\n",
        "  for i in range(1, num_of_instances):\n",
        "      emotion, img, usage = lines[i].split(\",\")\n",
        "      val = img.split(\" \")\n",
        "      pixels = np.array(val, 'float32')\n",
        "      emotion = keras.utils.to_categorical(emotion, num_classes)\n",
        "      if 'PublicTest' in usage:\n",
        "          y_test.append(emotion)\n",
        "          x_test.append(pixels)\n",
        "\n",
        "  x_test = np.array(x_test, 'float32')\n",
        "  y_test = np.array(y_test, 'float32')\n",
        "  x_test /= 255\n",
        "  x_test = x_test.reshape(x_test.shape[0], 48, 48, 1)\n",
        "  x_test = x_test.astype('float32')\n",
        "  print(x_test.shape[0], 'test samples')\n",
        "\n",
        "  json_file = open('model.json', 'r')\n",
        "  loaded_model_json = json_file.read()\n",
        "  json_file.close()\n",
        "  loaded_model = model_from_json(loaded_model_json)\n",
        "  loaded_model.load_weights(\"model.h5\")\n",
        "  print(\"Loaded model from disk\")\n",
        "  loaded_model.compile(loss='categorical_crossentropy', optimizer=keras.optimizers.Adam(), metrics=['accuracy'])\n",
        "\n",
        "\n",
        "def emotion_analysis(emotions):\n",
        "    objects = ('angry', 'disgust', 'fear', 'happy', 'sad', 'surprise', 'neutral')\n",
        "    y_pos = np.arange(len(objects))\n",
        "    plt.bar(y_pos, emotions, align='center', alpha=0.5)\n",
        "    plt.xticks(y_pos, objects)\n",
        "    plt.ylabel('percentage')\n",
        "    plt.title('emotion')\n",
        "    plt.show()\n",
        "\n",
        "evaluation = loaded_model.evaluate(x_test, y_test, batch_size=256, verbose=1)\n",
        "end = time.time()\n",
        "print('Summary: Loss over the test data set: %.2f, Accuracy: %.2f' % (evaluation[0], evaluation[1]))\n",
        "print(\"Total Time in Testing Model: \", end-start)"
      ],
      "execution_count": 90,
      "outputs": [
        {
          "output_type": "stream",
          "text": [
            "3589 test samples\n",
            "Loaded model from disk\n",
            "3589/3589 [==============================] - 1s 347us/step\n",
            "Summary: Loss over the test data set: 1.44, Accuracy: 0.61\n",
            "Total Time in Testing Model:  17.133543252944946\n"
          ],
          "name": "stdout"
        }
      ]
    }
  ]
}