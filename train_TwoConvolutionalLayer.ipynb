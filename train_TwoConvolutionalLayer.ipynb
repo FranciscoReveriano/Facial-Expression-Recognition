{
  "nbformat": 4,
  "nbformat_minor": 0,
  "metadata": {
    "colab": {
      "name": "train_TwoConvolutionalLayer.ipynb",
      "version": "0.3.2",
      "provenance": [],
      "collapsed_sections": [],
      "toc_visible": true,
      "include_colab_link": true
    },
    "kernelspec": {
      "name": "python3",
      "display_name": "Python 3"
    },
    "accelerator": "GPU"
  },
  "cells": [
    {
      "cell_type": "markdown",
      "metadata": {
        "id": "view-in-github",
        "colab_type": "text"
      },
      "source": [
        "<a href=\"https://colab.research.google.com/github/FranciscoReveriano/Facial-Expression-Recognition/blob/master/train_TwoConvolutionalLayer.ipynb\" target=\"_parent\"><img src=\"https://colab.research.google.com/assets/colab-badge.svg\" alt=\"Open In Colab\"/></a>"
      ]
    },
    {
      "metadata": {
        "id": "K3dpKNWbTejk",
        "colab_type": "text"
      },
      "cell_type": "markdown",
      "source": [
        "# Original Model"
      ]
    },
    {
      "metadata": {
        "id": "RaUenXFMUAPB",
        "colab_type": "text"
      },
      "cell_type": "markdown",
      "source": [
        "##Train The Dataset"
      ]
    },
    {
      "metadata": {
        "id": "1U1nFtUcTluL",
        "colab_type": "text"
      },
      "cell_type": "markdown",
      "source": [
        "### Import Necessary Libaries"
      ]
    },
    {
      "metadata": {
        "id": "SOUiEvwPT07C",
        "colab_type": "code",
        "colab": {}
      },
      "cell_type": "code",
      "source": [
        "import tensorflow as tf\n",
        "import numpy as np\n",
        "import matplotlib.pyplot as plt\n",
        "import time \n",
        "\n",
        "import keras\n",
        "from keras.models import Sequential\n",
        "from keras.layers import Conv2D, MaxPooling2D, AveragePooling2D\n",
        "from keras.layers.core import Dense, Dropout, Flatten, Activation"
      ],
      "execution_count": 0,
      "outputs": []
    },
    {
      "metadata": {
        "id": "dBEOBGT6Ttvk",
        "colab_type": "text"
      },
      "cell_type": "markdown",
      "source": [
        "###Check for GPU"
      ]
    },
    {
      "metadata": {
        "id": "c4YAJd50UEvv",
        "colab_type": "code",
        "outputId": "1c655840-aca2-483d-c4b7-c6a1c88808ec",
        "colab": {
          "base_uri": "https://localhost:8080/",
          "height": 34
        }
      },
      "cell_type": "code",
      "source": [
        "device_name = tf.test.gpu_device_name()\n",
        "if device_name != '/device:GPU:0':\n",
        "  raise SystemError('GPU device not found')\n",
        "print('Found GPU at: {}'.format(device_name))\n",
        "\n",
        "config = tf.ConfigProto()\n",
        "sess = tf.Session(config=config)\n",
        "keras.backend.set_session(sess)"
      ],
      "execution_count": 50,
      "outputs": [
        {
          "output_type": "stream",
          "text": [
            "Found GPU at: /device:GPU:0\n"
          ],
          "name": "stdout"
        }
      ]
    },
    {
      "metadata": {
        "id": "80EtH_BmU4_N",
        "colab_type": "text"
      },
      "cell_type": "markdown",
      "source": [
        "### Select Settings"
      ]
    },
    {
      "metadata": {
        "id": "VNuX3XDlVBSz",
        "colab_type": "code",
        "colab": {}
      },
      "cell_type": "code",
      "source": [
        "num_classes = 7\n",
        "batch_size = 256\n",
        "epochs = 50\n",
        "VERBOSE = 1\n",
        "VALIDATION_SPLIT = 0.2"
      ],
      "execution_count": 0,
      "outputs": []
    },
    {
      "metadata": {
        "id": "kQL_8KQKVEiz",
        "colab_type": "text"
      },
      "cell_type": "markdown",
      "source": [
        "### Process Images"
      ]
    },
    {
      "metadata": {
        "id": "J0GrNNwZVNjW",
        "colab_type": "code",
        "outputId": "c915a774-cda8-445f-bddb-b2e304dc738f",
        "colab": {
          "base_uri": "https://localhost:8080/",
          "height": 67
        }
      },
      "cell_type": "code",
      "source": [
        "start = time.time() \n",
        "with tf.device('/GPU:0'):\n",
        "  with open(\"fer2013.csv\") as f:\n",
        "      content = f.readlines()\n",
        "  lines = np.array(content)\n",
        "  num_of_instances = lines.size\n",
        "end = time.time()\n",
        "print(\"Number of Images: \", num_of_instances)\n",
        "print(\"Pixel number of each image: \", len(lines[1].split(\",\")[1].split(\" \")))\n",
        "print(\"Time to prepare images = \", end-start)"
      ],
      "execution_count": 52,
      "outputs": [
        {
          "output_type": "stream",
          "text": [
            "Number of Images:  35888\n",
            "Pixel number of each image:  2304\n",
            "Time to prepare images =  1.8909986019134521\n"
          ],
          "name": "stdout"
        }
      ]
    },
    {
      "metadata": {
        "id": "vMFyGiH0WkNG",
        "colab_type": "text"
      },
      "cell_type": "markdown",
      "source": [
        "### Train the Model"
      ]
    },
    {
      "metadata": {
        "id": "7MAVCsHQHmx4",
        "colab_type": "code",
        "outputId": "d765cb80-89c5-4d08-e948-5b1eb66da045",
        "colab": {
          "base_uri": "https://localhost:8080/",
          "height": 1781
        }
      },
      "cell_type": "code",
      "source": [
        "start = time.time()\n",
        "with tf.device('/GPU:0'):\n",
        "  x_train, y_train = [], []\n",
        "\n",
        "  for i in range(1, num_of_instances):\n",
        "      emotion, img, usage = lines[i].split(\",\")\n",
        "      val = img.split(\" \")\n",
        "      pixels = np.array(val, 'float32')\n",
        "      emotion = keras.utils.to_categorical(emotion, num_classes)\n",
        "      if 'Training' in usage:\n",
        "          y_train.append(emotion)\n",
        "          x_train.append(pixels)\n",
        "\n",
        "  x_train = np.array(x_train, 'float32')\n",
        "  y_train = np.array(y_train, 'float32')\n",
        "  x_train /= 255\n",
        "  x_train = x_train.reshape(x_train.shape[0], 48, 48, 1)\n",
        "  x_train = x_train.astype('float32')\n",
        "  print(x_train.shape[0], 'train samples')\n",
        "\n",
        "  model = Sequential()\n",
        "\n",
        "\n",
        "  # Two Convolutional Layer\n",
        "  model.add(Conv2D(32, (3, 3),  activation='relu', padding='same', input_shape=(48, 48, 1)))\n",
        "  model.add(MaxPooling2D(pool_size=(2, 2)))\n",
        "  model.add(Dropout(0.2))\n",
        "  model.add(Conv2D(64, (3, 3), activation='relu', padding='same'))\n",
        "  model.add(MaxPooling2D(pool_size=(2, 2)))\n",
        "  model.add(Dropout(0.2))\n",
        "  model.add(Flatten())\n",
        "  model.add(Dense(512, activation='relu'))\n",
        "  model.add(Dropout(0.5))\n",
        "\n",
        "  model.add(Dense(num_classes, activation='softmax'))\n",
        "  model.compile(loss='categorical_crossentropy', optimizer=keras.optimizers.Adam(), metrics=['accuracy'])\n",
        "  # model.summary()\n",
        "  history = model.fit(x_train, y_train, batch_size=batch_size, epochs=epochs, verbose=VERBOSE, validation_split=VALIDATION_SPLIT)\n",
        "\n",
        "  model_json = model.to_json()\n",
        "  with open(\"model.json\", \"w\") as json_file:\n",
        "      json_file.write(model_json)\n",
        "  model.save_weights(\"model.h5\")\n",
        "  print(\"Saved model to disk\")\n",
        "\n",
        "\n",
        "end = time.time()\n",
        "print(\"Saved model to disk\")\n",
        "print(\"Total Runtime To Train Model = \", end-start)"
      ],
      "execution_count": 53,
      "outputs": [
        {
          "output_type": "stream",
          "text": [
            "28709 train samples\n",
            "Train on 22967 samples, validate on 5742 samples\n",
            "Epoch 1/50\n",
            "22967/22967 [==============================] - 4s 164us/step - loss: 1.8155 - acc: 0.2532 - val_loss: 1.7350 - val_acc: 0.3208\n",
            "Epoch 2/50\n",
            "22967/22967 [==============================] - 3s 122us/step - loss: 1.6753 - acc: 0.3374 - val_loss: 1.6095 - val_acc: 0.3798\n",
            "Epoch 3/50\n",
            "22967/22967 [==============================] - 3s 121us/step - loss: 1.5812 - acc: 0.3896 - val_loss: 1.5036 - val_acc: 0.4284\n",
            "Epoch 4/50\n",
            "22967/22967 [==============================] - 3s 121us/step - loss: 1.5033 - acc: 0.4213 - val_loss: 1.4362 - val_acc: 0.4542\n",
            "Epoch 5/50\n",
            "22967/22967 [==============================] - 3s 122us/step - loss: 1.4396 - acc: 0.4452 - val_loss: 1.3843 - val_acc: 0.4828\n",
            "Epoch 6/50\n",
            "22967/22967 [==============================] - 3s 122us/step - loss: 1.3916 - acc: 0.4663 - val_loss: 1.3635 - val_acc: 0.4869\n",
            "Epoch 7/50\n",
            "22967/22967 [==============================] - 3s 122us/step - loss: 1.3506 - acc: 0.4851 - val_loss: 1.3292 - val_acc: 0.5024\n",
            "Epoch 8/50\n",
            "22967/22967 [==============================] - 3s 122us/step - loss: 1.3134 - acc: 0.4996 - val_loss: 1.2965 - val_acc: 0.5134\n",
            "Epoch 9/50\n",
            "22967/22967 [==============================] - 3s 122us/step - loss: 1.2767 - acc: 0.5138 - val_loss: 1.2986 - val_acc: 0.5110\n",
            "Epoch 10/50\n",
            "22967/22967 [==============================] - 3s 122us/step - loss: 1.2347 - acc: 0.5319 - val_loss: 1.2741 - val_acc: 0.5146\n",
            "Epoch 11/50\n",
            "22967/22967 [==============================] - 3s 122us/step - loss: 1.2003 - acc: 0.5428 - val_loss: 1.2529 - val_acc: 0.5300\n",
            "Epoch 12/50\n",
            "22967/22967 [==============================] - 3s 122us/step - loss: 1.1673 - acc: 0.5596 - val_loss: 1.2448 - val_acc: 0.5308\n",
            "Epoch 13/50\n",
            "22967/22967 [==============================] - 3s 122us/step - loss: 1.1243 - acc: 0.5798 - val_loss: 1.2431 - val_acc: 0.5275\n",
            "Epoch 14/50\n",
            "22967/22967 [==============================] - 3s 122us/step - loss: 1.0868 - acc: 0.5917 - val_loss: 1.2319 - val_acc: 0.5394\n",
            "Epoch 15/50\n",
            "22967/22967 [==============================] - 3s 122us/step - loss: 1.0504 - acc: 0.6088 - val_loss: 1.2275 - val_acc: 0.5385\n",
            "Epoch 16/50\n",
            "22967/22967 [==============================] - 3s 124us/step - loss: 1.0088 - acc: 0.6260 - val_loss: 1.2198 - val_acc: 0.5413\n",
            "Epoch 17/50\n",
            "22967/22967 [==============================] - 3s 123us/step - loss: 0.9684 - acc: 0.6378 - val_loss: 1.2221 - val_acc: 0.5413\n",
            "Epoch 18/50\n",
            "22967/22967 [==============================] - 3s 124us/step - loss: 0.9310 - acc: 0.6522 - val_loss: 1.2264 - val_acc: 0.5465\n",
            "Epoch 19/50\n",
            "22967/22967 [==============================] - 3s 122us/step - loss: 0.8928 - acc: 0.6707 - val_loss: 1.2267 - val_acc: 0.5540\n",
            "Epoch 20/50\n",
            "22967/22967 [==============================] - 3s 121us/step - loss: 0.8532 - acc: 0.6838 - val_loss: 1.2371 - val_acc: 0.5575\n",
            "Epoch 21/50\n",
            "22967/22967 [==============================] - 3s 121us/step - loss: 0.8224 - acc: 0.6974 - val_loss: 1.2391 - val_acc: 0.5550\n",
            "Epoch 22/50\n",
            "22967/22967 [==============================] - 3s 121us/step - loss: 0.7881 - acc: 0.7053 - val_loss: 1.2540 - val_acc: 0.5515\n",
            "Epoch 23/50\n",
            "22967/22967 [==============================] - 3s 121us/step - loss: 0.7515 - acc: 0.7231 - val_loss: 1.2533 - val_acc: 0.5528\n",
            "Epoch 24/50\n",
            "22967/22967 [==============================] - 3s 120us/step - loss: 0.7348 - acc: 0.7297 - val_loss: 1.2742 - val_acc: 0.5575\n",
            "Epoch 25/50\n",
            "22967/22967 [==============================] - 3s 121us/step - loss: 0.7040 - acc: 0.7413 - val_loss: 1.2783 - val_acc: 0.5563\n",
            "Epoch 26/50\n",
            "22967/22967 [==============================] - 3s 120us/step - loss: 0.6663 - acc: 0.7548 - val_loss: 1.3011 - val_acc: 0.5615\n",
            "Epoch 27/50\n",
            "22967/22967 [==============================] - 3s 120us/step - loss: 0.6453 - acc: 0.7617 - val_loss: 1.3100 - val_acc: 0.5573\n",
            "Epoch 28/50\n",
            "22967/22967 [==============================] - 3s 121us/step - loss: 0.6286 - acc: 0.7693 - val_loss: 1.3169 - val_acc: 0.5575\n",
            "Epoch 29/50\n",
            "22967/22967 [==============================] - 3s 120us/step - loss: 0.5948 - acc: 0.7809 - val_loss: 1.3300 - val_acc: 0.5662\n",
            "Epoch 30/50\n",
            "22967/22967 [==============================] - 3s 121us/step - loss: 0.5720 - acc: 0.7880 - val_loss: 1.3596 - val_acc: 0.5583\n",
            "Epoch 31/50\n",
            "22967/22967 [==============================] - 3s 120us/step - loss: 0.5499 - acc: 0.7982 - val_loss: 1.4004 - val_acc: 0.5542\n",
            "Epoch 32/50\n",
            "22967/22967 [==============================] - 3s 121us/step - loss: 0.5324 - acc: 0.8033 - val_loss: 1.3954 - val_acc: 0.5627\n",
            "Epoch 33/50\n",
            "22967/22967 [==============================] - 3s 120us/step - loss: 0.5195 - acc: 0.8092 - val_loss: 1.3959 - val_acc: 0.5630\n",
            "Epoch 34/50\n",
            "22967/22967 [==============================] - 3s 121us/step - loss: 0.4982 - acc: 0.8194 - val_loss: 1.4072 - val_acc: 0.5657\n",
            "Epoch 35/50\n",
            "22967/22967 [==============================] - 3s 120us/step - loss: 0.4830 - acc: 0.8199 - val_loss: 1.4524 - val_acc: 0.5625\n",
            "Epoch 36/50\n",
            "22967/22967 [==============================] - 3s 121us/step - loss: 0.4612 - acc: 0.8315 - val_loss: 1.4845 - val_acc: 0.5623\n",
            "Epoch 37/50\n",
            "22967/22967 [==============================] - 3s 121us/step - loss: 0.4472 - acc: 0.8359 - val_loss: 1.4376 - val_acc: 0.5627\n",
            "Epoch 38/50\n",
            "22967/22967 [==============================] - 3s 121us/step - loss: 0.4395 - acc: 0.8402 - val_loss: 1.4770 - val_acc: 0.5664\n",
            "Epoch 39/50\n",
            "22967/22967 [==============================] - 3s 121us/step - loss: 0.4262 - acc: 0.8452 - val_loss: 1.5240 - val_acc: 0.5646\n",
            "Epoch 40/50\n",
            "22967/22967 [==============================] - 3s 121us/step - loss: 0.4061 - acc: 0.8507 - val_loss: 1.5305 - val_acc: 0.5606\n",
            "Epoch 41/50\n",
            "22967/22967 [==============================] - 3s 121us/step - loss: 0.3985 - acc: 0.8542 - val_loss: 1.5526 - val_acc: 0.5606\n",
            "Epoch 42/50\n",
            "22967/22967 [==============================] - 3s 121us/step - loss: 0.3913 - acc: 0.8538 - val_loss: 1.5757 - val_acc: 0.5641\n",
            "Epoch 43/50\n",
            "22967/22967 [==============================] - 3s 121us/step - loss: 0.3820 - acc: 0.8593 - val_loss: 1.5361 - val_acc: 0.5620\n",
            "Epoch 44/50\n",
            "22967/22967 [==============================] - 3s 123us/step - loss: 0.3670 - acc: 0.8669 - val_loss: 1.5798 - val_acc: 0.5639\n",
            "Epoch 45/50\n",
            "22967/22967 [==============================] - 3s 124us/step - loss: 0.3631 - acc: 0.8661 - val_loss: 1.6239 - val_acc: 0.5587\n",
            "Epoch 46/50\n",
            "22967/22967 [==============================] - 3s 123us/step - loss: 0.3497 - acc: 0.8731 - val_loss: 1.6473 - val_acc: 0.5674\n",
            "Epoch 47/50\n",
            "22967/22967 [==============================] - 3s 124us/step - loss: 0.3426 - acc: 0.8739 - val_loss: 1.6510 - val_acc: 0.5617\n",
            "Epoch 48/50\n",
            "22967/22967 [==============================] - 3s 121us/step - loss: 0.3337 - acc: 0.8784 - val_loss: 1.6512 - val_acc: 0.5686\n",
            "Epoch 49/50\n",
            "22967/22967 [==============================] - 3s 121us/step - loss: 0.3289 - acc: 0.8793 - val_loss: 1.6776 - val_acc: 0.5617\n",
            "Epoch 50/50\n",
            "22967/22967 [==============================] - 3s 120us/step - loss: 0.3226 - acc: 0.8808 - val_loss: 1.6654 - val_acc: 0.5630\n",
            "Saved model to disk\n",
            "Saved model to disk\n",
            "Total Runtime To Train Model =  154.6842815876007\n"
          ],
          "name": "stdout"
        }
      ]
    },
    {
      "metadata": {
        "id": "5SIzv0mWYQnf",
        "colab_type": "text"
      },
      "cell_type": "markdown",
      "source": [
        "##Test the Dataset"
      ]
    },
    {
      "metadata": {
        "id": "E0OhxbLwYdCj",
        "colab_type": "text"
      },
      "cell_type": "markdown",
      "source": [
        "###Import Necessary Libraries"
      ]
    },
    {
      "metadata": {
        "id": "HXUYU_9SYhma",
        "colab_type": "code",
        "colab": {}
      },
      "cell_type": "code",
      "source": [
        "import numpy as np\n",
        "import matplotlib.pyplot as plt\n",
        "import keras\n",
        "import time\n",
        "from keras.models import model_from_json"
      ],
      "execution_count": 0,
      "outputs": []
    },
    {
      "metadata": {
        "id": "o7KOQV0JQ_3_",
        "colab_type": "code",
        "outputId": "af8135b3-0b14-4dd8-8bf1-bdcf62dce059",
        "colab": {
          "base_uri": "https://localhost:8080/",
          "height": 101
        }
      },
      "cell_type": "code",
      "source": [
        "start = time.time()\n",
        "num_classes = 7\n",
        "with tf.device('/GPU:0'):\n",
        "  with open(\"fer2013.csv\") as f:\n",
        "      content = f.readlines()\n",
        "  lines = np.array(content)\n",
        "  num_of_instances = lines.size\n",
        "\n",
        "  x_test, y_test = [], []\n",
        "\n",
        "  for i in range(1, num_of_instances):\n",
        "      emotion, img, usage = lines[i].split(\",\")\n",
        "      val = img.split(\" \")\n",
        "      pixels = np.array(val, 'float32')\n",
        "      emotion = keras.utils.to_categorical(emotion, num_classes)\n",
        "      if 'PublicTest' in usage:\n",
        "          y_test.append(emotion)\n",
        "          x_test.append(pixels)\n",
        "\n",
        "  x_test = np.array(x_test, 'float32')\n",
        "  y_test = np.array(y_test, 'float32')\n",
        "  x_test /= 255\n",
        "  x_test = x_test.reshape(x_test.shape[0], 48, 48, 1)\n",
        "  x_test = x_test.astype('float32')\n",
        "  print(x_test.shape[0], 'test samples')\n",
        "\n",
        "  json_file = open('model.json', 'r')\n",
        "  loaded_model_json = json_file.read()\n",
        "  json_file.close()\n",
        "  loaded_model = model_from_json(loaded_model_json)\n",
        "  loaded_model.load_weights(\"model.h5\")\n",
        "  print(\"Loaded model from disk\")\n",
        "  loaded_model.compile(loss='categorical_crossentropy', optimizer=keras.optimizers.Adam(), metrics=['accuracy'])\n",
        "\n",
        "\n",
        "def emotion_analysis(emotions):\n",
        "    objects = ('angry', 'disgust', 'fear', 'happy', 'sad', 'surprise', 'neutral')\n",
        "    y_pos = np.arange(len(objects))\n",
        "    plt.bar(y_pos, emotions, align='center', alpha=0.5)\n",
        "    plt.xticks(y_pos, objects)\n",
        "    plt.ylabel('percentage')\n",
        "    plt.title('emotion')\n",
        "    plt.show()\n",
        "\n",
        "evaluation = loaded_model.evaluate(x_test, y_test, batch_size=256, verbose=1)\n",
        "end = time.time()\n",
        "print('Summary: Loss over the test data set: %.2f, Accuracy: %.2f' % (evaluation[0], evaluation[1]))\n",
        "print(\"Total Time in Testing Model: \", end-start)"
      ],
      "execution_count": 55,
      "outputs": [
        {
          "output_type": "stream",
          "text": [
            "3589 test samples\n",
            "Loaded model from disk\n",
            "3589/3589 [==============================] - 0s 125us/step\n",
            "Summary: Loss over the test data set: 1.71, Accuracy: 0.56\n",
            "Total Time in Testing Model:  15.438267469406128\n"
          ],
          "name": "stdout"
        }
      ]
    }
  ]
}